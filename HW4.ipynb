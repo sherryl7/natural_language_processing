{
 "cells": [
  {
   "cell_type": "code",
   "execution_count": null,
   "metadata": {
    "colab": {
     "base_uri": "https://localhost:8080/"
    },
    "id": "hzdcubkU-Sr9",
    "outputId": "a403c205-5a0b-4cbd-cf1b-064026f0cb13"
   },
   "outputs": [
    {
     "name": "stdout",
     "output_type": "stream",
     "text": [
      "Requirement already satisfied: tensorflow in /usr/local/lib/python3.7/dist-packages (2.8.0)\n",
      "Requirement already satisfied: keras in /usr/local/lib/python3.7/dist-packages (2.8.0)\n",
      "Requirement already satisfied: typing-extensions>=3.6.6 in /usr/local/lib/python3.7/dist-packages (from tensorflow) (4.2.0)\n",
      "Requirement already satisfied: google-pasta>=0.1.1 in /usr/local/lib/python3.7/dist-packages (from tensorflow) (0.2.0)\n",
      "Requirement already satisfied: astunparse>=1.6.0 in /usr/local/lib/python3.7/dist-packages (from tensorflow) (1.6.3)\n",
      "Requirement already satisfied: tensorboard<2.9,>=2.8 in /usr/local/lib/python3.7/dist-packages (from tensorflow) (2.8.0)\n",
      "Requirement already satisfied: gast>=0.2.1 in /usr/local/lib/python3.7/dist-packages (from tensorflow) (0.5.3)\n",
      "Requirement already satisfied: wrapt>=1.11.0 in /usr/local/lib/python3.7/dist-packages (from tensorflow) (1.14.0)\n",
      "Requirement already satisfied: termcolor>=1.1.0 in /usr/local/lib/python3.7/dist-packages (from tensorflow) (1.1.0)\n",
      "Requirement already satisfied: six>=1.12.0 in /usr/local/lib/python3.7/dist-packages (from tensorflow) (1.15.0)\n",
      "Requirement already satisfied: keras-preprocessing>=1.1.1 in /usr/local/lib/python3.7/dist-packages (from tensorflow) (1.1.2)\n",
      "Requirement already satisfied: absl-py>=0.4.0 in /usr/local/lib/python3.7/dist-packages (from tensorflow) (1.0.0)\n",
      "Requirement already satisfied: setuptools in /usr/local/lib/python3.7/dist-packages (from tensorflow) (57.4.0)\n",
      "Collecting tf-estimator-nightly==2.8.0.dev2021122109\n",
      "  Downloading tf_estimator_nightly-2.8.0.dev2021122109-py2.py3-none-any.whl (462 kB)\n",
      "\u001b[K     |████████████████████████████████| 462 kB 4.5 MB/s \n",
      "\u001b[?25hRequirement already satisfied: protobuf>=3.9.2 in /usr/local/lib/python3.7/dist-packages (from tensorflow) (3.17.3)\n",
      "Requirement already satisfied: grpcio<2.0,>=1.24.3 in /usr/local/lib/python3.7/dist-packages (from tensorflow) (1.44.0)\n",
      "Requirement already satisfied: numpy>=1.20 in /usr/local/lib/python3.7/dist-packages (from tensorflow) (1.21.6)\n",
      "Requirement already satisfied: opt-einsum>=2.3.2 in /usr/local/lib/python3.7/dist-packages (from tensorflow) (3.3.0)\n",
      "Requirement already satisfied: h5py>=2.9.0 in /usr/local/lib/python3.7/dist-packages (from tensorflow) (3.1.0)\n",
      "Requirement already satisfied: flatbuffers>=1.12 in /usr/local/lib/python3.7/dist-packages (from tensorflow) (2.0)\n",
      "Requirement already satisfied: libclang>=9.0.1 in /usr/local/lib/python3.7/dist-packages (from tensorflow) (13.0.0)\n",
      "Requirement already satisfied: tensorflow-io-gcs-filesystem>=0.23.1 in /usr/local/lib/python3.7/dist-packages (from tensorflow) (0.24.0)\n",
      "Requirement already satisfied: wheel<1.0,>=0.23.0 in /usr/local/lib/python3.7/dist-packages (from astunparse>=1.6.0->tensorflow) (0.37.1)\n",
      "Requirement already satisfied: cached-property in /usr/local/lib/python3.7/dist-packages (from h5py>=2.9.0->tensorflow) (1.5.2)\n",
      "Requirement already satisfied: tensorboard-data-server<0.7.0,>=0.6.0 in /usr/local/lib/python3.7/dist-packages (from tensorboard<2.9,>=2.8->tensorflow) (0.6.1)\n",
      "Requirement already satisfied: requests<3,>=2.21.0 in /usr/local/lib/python3.7/dist-packages (from tensorboard<2.9,>=2.8->tensorflow) (2.23.0)\n",
      "Requirement already satisfied: google-auth-oauthlib<0.5,>=0.4.1 in /usr/local/lib/python3.7/dist-packages (from tensorboard<2.9,>=2.8->tensorflow) (0.4.6)\n",
      "Requirement already satisfied: tensorboard-plugin-wit>=1.6.0 in /usr/local/lib/python3.7/dist-packages (from tensorboard<2.9,>=2.8->tensorflow) (1.8.1)\n",
      "Requirement already satisfied: werkzeug>=0.11.15 in /usr/local/lib/python3.7/dist-packages (from tensorboard<2.9,>=2.8->tensorflow) (1.0.1)\n",
      "Requirement already satisfied: google-auth<3,>=1.6.3 in /usr/local/lib/python3.7/dist-packages (from tensorboard<2.9,>=2.8->tensorflow) (1.35.0)\n",
      "Requirement already satisfied: markdown>=2.6.8 in /usr/local/lib/python3.7/dist-packages (from tensorboard<2.9,>=2.8->tensorflow) (3.3.6)\n",
      "Requirement already satisfied: pyasn1-modules>=0.2.1 in /usr/local/lib/python3.7/dist-packages (from google-auth<3,>=1.6.3->tensorboard<2.9,>=2.8->tensorflow) (0.2.8)\n",
      "Requirement already satisfied: cachetools<5.0,>=2.0.0 in /usr/local/lib/python3.7/dist-packages (from google-auth<3,>=1.6.3->tensorboard<2.9,>=2.8->tensorflow) (4.2.4)\n",
      "Requirement already satisfied: rsa<5,>=3.1.4 in /usr/local/lib/python3.7/dist-packages (from google-auth<3,>=1.6.3->tensorboard<2.9,>=2.8->tensorflow) (4.8)\n",
      "Requirement already satisfied: requests-oauthlib>=0.7.0 in /usr/local/lib/python3.7/dist-packages (from google-auth-oauthlib<0.5,>=0.4.1->tensorboard<2.9,>=2.8->tensorflow) (1.3.1)\n",
      "Requirement already satisfied: importlib-metadata>=4.4 in /usr/local/lib/python3.7/dist-packages (from markdown>=2.6.8->tensorboard<2.9,>=2.8->tensorflow) (4.11.3)\n",
      "Requirement already satisfied: zipp>=0.5 in /usr/local/lib/python3.7/dist-packages (from importlib-metadata>=4.4->markdown>=2.6.8->tensorboard<2.9,>=2.8->tensorflow) (3.8.0)\n",
      "Requirement already satisfied: pyasn1<0.5.0,>=0.4.6 in /usr/local/lib/python3.7/dist-packages (from pyasn1-modules>=0.2.1->google-auth<3,>=1.6.3->tensorboard<2.9,>=2.8->tensorflow) (0.4.8)\n",
      "Requirement already satisfied: idna<3,>=2.5 in /usr/local/lib/python3.7/dist-packages (from requests<3,>=2.21.0->tensorboard<2.9,>=2.8->tensorflow) (2.10)\n",
      "Requirement already satisfied: urllib3!=1.25.0,!=1.25.1,<1.26,>=1.21.1 in /usr/local/lib/python3.7/dist-packages (from requests<3,>=2.21.0->tensorboard<2.9,>=2.8->tensorflow) (1.24.3)\n",
      "Requirement already satisfied: certifi>=2017.4.17 in /usr/local/lib/python3.7/dist-packages (from requests<3,>=2.21.0->tensorboard<2.9,>=2.8->tensorflow) (2021.10.8)\n",
      "Requirement already satisfied: chardet<4,>=3.0.2 in /usr/local/lib/python3.7/dist-packages (from requests<3,>=2.21.0->tensorboard<2.9,>=2.8->tensorflow) (3.0.4)\n",
      "Requirement already satisfied: oauthlib>=3.0.0 in /usr/local/lib/python3.7/dist-packages (from requests-oauthlib>=0.7.0->google-auth-oauthlib<0.5,>=0.4.1->tensorboard<2.9,>=2.8->tensorflow) (3.2.0)\n",
      "Installing collected packages: tf-estimator-nightly\n",
      "Successfully installed tf-estimator-nightly-2.8.0.dev2021122109\n"
     ]
    }
   ],
   "source": [
    "pip install tensorflow keras"
   ]
  },
  {
   "cell_type": "code",
   "execution_count": 1,
   "metadata": {
    "colab": {
     "base_uri": "https://localhost:8080/"
    },
    "id": "EZMTBpyW_YsB",
    "outputId": "f7f09590-ed0f-4362-9020-863610568fce"
   },
   "outputs": [
    {
     "name": "stdout",
     "output_type": "stream",
     "text": [
      "Mounted at /content/drive\n"
     ]
    }
   ],
   "source": [
    "from google.colab import drive \n",
    "drive.mount('/content/drive')"
   ]
  },
  {
   "cell_type": "code",
   "execution_count": 2,
   "metadata": {
    "id": "wZGaxGGG_oxQ"
   },
   "outputs": [],
   "source": [
    "import os\n",
    "os.chdir(\"/content/drive/MyDrive/\")"
   ]
  },
  {
   "cell_type": "code",
   "execution_count": 3,
   "metadata": {
    "id": "BQEKpxSr-Ve9"
   },
   "outputs": [],
   "source": [
    "from keras.preprocessing.text import one_hot\n",
    "from keras.preprocessing.sequence import pad_sequences\n",
    "from numpy import asarray\n",
    "from numpy import array\n",
    "from numpy import zeros\n",
    "from keras.preprocessing.text import Tokenizer\n",
    "from keras.models import Sequential\n",
    "from keras.layers import Dense\n",
    "from keras.layers import Flatten\n",
    "from keras.layers import Embedding"
   ]
  },
  {
   "cell_type": "code",
   "execution_count": 4,
   "metadata": {
    "colab": {
     "base_uri": "https://localhost:8080/"
    },
    "id": "zRYTBN40-bD8",
    "outputId": "8c7c6083-b675-45ed-c8bc-33fa86cdc2d0"
   },
   "outputs": [
    {
     "name": "stdout",
     "output_type": "stream",
     "text": [
      "[nltk_data] Downloading package punkt to /root/nltk_data...\n",
      "[nltk_data]   Unzipping tokenizers/punkt.zip.\n",
      "[nltk_data] Downloading package stopwords to /root/nltk_data...\n",
      "[nltk_data]   Unzipping corpora/stopwords.zip.\n",
      "[nltk_data] Downloading package averaged_perceptron_tagger to\n",
      "[nltk_data]     /root/nltk_data...\n",
      "[nltk_data]   Unzipping taggers/averaged_perceptron_tagger.zip.\n",
      "[nltk_data] Downloading package wordnet to /root/nltk_data...\n",
      "[nltk_data]   Unzipping corpora/wordnet.zip.\n"
     ]
    }
   ],
   "source": [
    "import pandas as pd\n",
    "import re\n",
    "import numpy as np\n",
    "from collections import Counter\n",
    "import nltk\n",
    "from nltk.stem import WordNetLemmatizer\n",
    "from nltk.corpus import wordnet\n",
    "from nltk.corpus import stopwords\n",
    "from sklearn.feature_extraction.text import CountVectorizer\n",
    "from nltk.stem.porter import *\n",
    "from nltk.tokenize import sent_tokenize, word_tokenize\n",
    "from tqdm import tqdm\n",
    "from sklearn.feature_extraction.text import TfidfVectorizer\n",
    "from nltk.corpus import stopwords\n",
    "from sklearn.metrics.pairwise import cosine_similarity\n",
    "from sklearn.metrics.pairwise import euclidean_distances\n",
    "nltk.download('punkt') \n",
    "nltk.download('stopwords')\n",
    "nltk.download('averaged_perceptron_tagger')\n",
    "nltk.download('wordnet')\n",
    "from sklearn.decomposition import NMF\n",
    "from sklearn.model_selection import train_test_split"
   ]
  },
  {
   "cell_type": "markdown",
   "metadata": {
    "id": "yObpqwNEYs4e"
   },
   "source": [
    "# Build A Classification Model w/ BBC News / BBC Sport"
   ]
  },
  {
   "cell_type": "code",
   "execution_count": 6,
   "metadata": {
    "id": "YoPTUiZM-pMu"
   },
   "outputs": [],
   "source": [
    "df = pd.read_csv('news_categories.csv', encoding='cp1252')"
   ]
  },
  {
   "cell_type": "code",
   "execution_count": null,
   "metadata": {
    "colab": {
     "base_uri": "https://localhost:8080/",
     "height": 424
    },
    "id": "OLZsdVkk-xdS",
    "outputId": "c1d4d3c1-3856-42db-fe50-174ab610c52a"
   },
   "outputs": [
    {
     "data": {
      "text/html": [
       "\n",
       "  <div id=\"df-66122c9d-13bd-43e1-85d1-14296ac8ff1c\">\n",
       "    <div class=\"colab-df-container\">\n",
       "      <div>\n",
       "<style scoped>\n",
       "    .dataframe tbody tr th:only-of-type {\n",
       "        vertical-align: middle;\n",
       "    }\n",
       "\n",
       "    .dataframe tbody tr th {\n",
       "        vertical-align: top;\n",
       "    }\n",
       "\n",
       "    .dataframe thead th {\n",
       "        text-align: right;\n",
       "    }\n",
       "</style>\n",
       "<table border=\"1\" class=\"dataframe\">\n",
       "  <thead>\n",
       "    <tr style=\"text-align: right;\">\n",
       "      <th></th>\n",
       "      <th>STORY</th>\n",
       "      <th>SECTION</th>\n",
       "    </tr>\n",
       "  </thead>\n",
       "  <tbody>\n",
       "    <tr>\n",
       "      <th>0</th>\n",
       "      <td>But the most painful was the huge reversal in ...</td>\n",
       "      <td>3</td>\n",
       "    </tr>\n",
       "    <tr>\n",
       "      <th>1</th>\n",
       "      <td>How formidable is the opposition alliance amon...</td>\n",
       "      <td>0</td>\n",
       "    </tr>\n",
       "    <tr>\n",
       "      <th>2</th>\n",
       "      <td>Most Asian currencies were trading lower today...</td>\n",
       "      <td>3</td>\n",
       "    </tr>\n",
       "    <tr>\n",
       "      <th>3</th>\n",
       "      <td>If you want to answer any question, click on ‘...</td>\n",
       "      <td>1</td>\n",
       "    </tr>\n",
       "    <tr>\n",
       "      <th>4</th>\n",
       "      <td>In global markets, gold prices edged up today ...</td>\n",
       "      <td>3</td>\n",
       "    </tr>\n",
       "    <tr>\n",
       "      <th>...</th>\n",
       "      <td>...</td>\n",
       "      <td>...</td>\n",
       "    </tr>\n",
       "    <tr>\n",
       "      <th>7623</th>\n",
       "      <td>Karnataka has been a Congress bastion, but it ...</td>\n",
       "      <td>0</td>\n",
       "    </tr>\n",
       "    <tr>\n",
       "      <th>7624</th>\n",
       "      <td>The film, which also features Janhvi Kapoor, w...</td>\n",
       "      <td>2</td>\n",
       "    </tr>\n",
       "    <tr>\n",
       "      <th>7625</th>\n",
       "      <td>The database has been created after bringing t...</td>\n",
       "      <td>1</td>\n",
       "    </tr>\n",
       "    <tr>\n",
       "      <th>7626</th>\n",
       "      <td>The state, which has had an uneasy relationshi...</td>\n",
       "      <td>0</td>\n",
       "    </tr>\n",
       "    <tr>\n",
       "      <th>7627</th>\n",
       "      <td>Virus stars Kunchacko Boban, Tovino Thomas, In...</td>\n",
       "      <td>2</td>\n",
       "    </tr>\n",
       "  </tbody>\n",
       "</table>\n",
       "<p>7628 rows × 2 columns</p>\n",
       "</div>\n",
       "      <button class=\"colab-df-convert\" onclick=\"convertToInteractive('df-66122c9d-13bd-43e1-85d1-14296ac8ff1c')\"\n",
       "              title=\"Convert this dataframe to an interactive table.\"\n",
       "              style=\"display:none;\">\n",
       "        \n",
       "  <svg xmlns=\"http://www.w3.org/2000/svg\" height=\"24px\"viewBox=\"0 0 24 24\"\n",
       "       width=\"24px\">\n",
       "    <path d=\"M0 0h24v24H0V0z\" fill=\"none\"/>\n",
       "    <path d=\"M18.56 5.44l.94 2.06.94-2.06 2.06-.94-2.06-.94-.94-2.06-.94 2.06-2.06.94zm-11 1L8.5 8.5l.94-2.06 2.06-.94-2.06-.94L8.5 2.5l-.94 2.06-2.06.94zm10 10l.94 2.06.94-2.06 2.06-.94-2.06-.94-.94-2.06-.94 2.06-2.06.94z\"/><path d=\"M17.41 7.96l-1.37-1.37c-.4-.4-.92-.59-1.43-.59-.52 0-1.04.2-1.43.59L10.3 9.45l-7.72 7.72c-.78.78-.78 2.05 0 2.83L4 21.41c.39.39.9.59 1.41.59.51 0 1.02-.2 1.41-.59l7.78-7.78 2.81-2.81c.8-.78.8-2.07 0-2.86zM5.41 20L4 18.59l7.72-7.72 1.47 1.35L5.41 20z\"/>\n",
       "  </svg>\n",
       "      </button>\n",
       "      \n",
       "  <style>\n",
       "    .colab-df-container {\n",
       "      display:flex;\n",
       "      flex-wrap:wrap;\n",
       "      gap: 12px;\n",
       "    }\n",
       "\n",
       "    .colab-df-convert {\n",
       "      background-color: #E8F0FE;\n",
       "      border: none;\n",
       "      border-radius: 50%;\n",
       "      cursor: pointer;\n",
       "      display: none;\n",
       "      fill: #1967D2;\n",
       "      height: 32px;\n",
       "      padding: 0 0 0 0;\n",
       "      width: 32px;\n",
       "    }\n",
       "\n",
       "    .colab-df-convert:hover {\n",
       "      background-color: #E2EBFA;\n",
       "      box-shadow: 0px 1px 2px rgba(60, 64, 67, 0.3), 0px 1px 3px 1px rgba(60, 64, 67, 0.15);\n",
       "      fill: #174EA6;\n",
       "    }\n",
       "\n",
       "    [theme=dark] .colab-df-convert {\n",
       "      background-color: #3B4455;\n",
       "      fill: #D2E3FC;\n",
       "    }\n",
       "\n",
       "    [theme=dark] .colab-df-convert:hover {\n",
       "      background-color: #434B5C;\n",
       "      box-shadow: 0px 1px 3px 1px rgba(0, 0, 0, 0.15);\n",
       "      filter: drop-shadow(0px 1px 2px rgba(0, 0, 0, 0.3));\n",
       "      fill: #FFFFFF;\n",
       "    }\n",
       "  </style>\n",
       "\n",
       "      <script>\n",
       "        const buttonEl =\n",
       "          document.querySelector('#df-66122c9d-13bd-43e1-85d1-14296ac8ff1c button.colab-df-convert');\n",
       "        buttonEl.style.display =\n",
       "          google.colab.kernel.accessAllowed ? 'block' : 'none';\n",
       "\n",
       "        async function convertToInteractive(key) {\n",
       "          const element = document.querySelector('#df-66122c9d-13bd-43e1-85d1-14296ac8ff1c');\n",
       "          const dataTable =\n",
       "            await google.colab.kernel.invokeFunction('convertToInteractive',\n",
       "                                                     [key], {});\n",
       "          if (!dataTable) return;\n",
       "\n",
       "          const docLinkHtml = 'Like what you see? Visit the ' +\n",
       "            '<a target=\"_blank\" href=https://colab.research.google.com/notebooks/data_table.ipynb>data table notebook</a>'\n",
       "            + ' to learn more about interactive tables.';\n",
       "          element.innerHTML = '';\n",
       "          dataTable['output_type'] = 'display_data';\n",
       "          await google.colab.output.renderOutput(dataTable, element);\n",
       "          const docLink = document.createElement('div');\n",
       "          docLink.innerHTML = docLinkHtml;\n",
       "          element.appendChild(docLink);\n",
       "        }\n",
       "      </script>\n",
       "    </div>\n",
       "  </div>\n",
       "  "
      ],
      "text/plain": [
       "                                                  STORY  SECTION\n",
       "0     But the most painful was the huge reversal in ...        3\n",
       "1     How formidable is the opposition alliance amon...        0\n",
       "2     Most Asian currencies were trading lower today...        3\n",
       "3     If you want to answer any question, click on ‘...        1\n",
       "4     In global markets, gold prices edged up today ...        3\n",
       "...                                                 ...      ...\n",
       "7623  Karnataka has been a Congress bastion, but it ...        0\n",
       "7624  The film, which also features Janhvi Kapoor, w...        2\n",
       "7625  The database has been created after bringing t...        1\n",
       "7626  The state, which has had an uneasy relationshi...        0\n",
       "7627  Virus stars Kunchacko Boban, Tovino Thomas, In...        2\n",
       "\n",
       "[7628 rows x 2 columns]"
      ]
     },
     "execution_count": 6,
     "metadata": {},
     "output_type": "execute_result"
    }
   ],
   "source": [
    "df"
   ]
  },
  {
   "cell_type": "markdown",
   "metadata": {
    "id": "-wUT6ZqsMEcy"
   },
   "source": [
    "Choose section 0 (politics) as my topic."
   ]
  },
  {
   "cell_type": "code",
   "execution_count": 36,
   "metadata": {
    "colab": {
     "base_uri": "https://localhost:8080/"
    },
    "id": "xB9s4J_QEZSD",
    "outputId": "5c79267d-11ee-473e-ca8a-6b6a78c72e00"
   },
   "outputs": [
    {
     "data": {
      "text/plain": [
       "0    5942\n",
       "1    1686\n",
       "Name: BS, dtype: int64"
      ]
     },
     "execution_count": 36,
     "metadata": {},
     "output_type": "execute_result"
    }
   ],
   "source": [
    "df['BS'] = df['SECTION'].apply(lambda x: 1 if x == 0 else 0)\n",
    "df['BS'].value_counts()"
   ]
  },
  {
   "cell_type": "code",
   "execution_count": 37,
   "metadata": {
    "id": "DR21zaccEgM1"
   },
   "outputs": [],
   "source": [
    "from numpy.random import seed\n",
    "seed(42)"
   ]
  },
  {
   "cell_type": "markdown",
   "metadata": {
    "id": "sdYHBGcaMVdQ"
   },
   "source": [
    "Seperate the whole dataset into 50:50"
   ]
  },
  {
   "cell_type": "code",
   "execution_count": 38,
   "metadata": {
    "id": "qnxev6oQElTo"
   },
   "outputs": [],
   "source": [
    "X_train, X_test, y_train, y_test = train_test_split(df['STORY'], df['BS'], test_size=0.5, stratify=df['BS'])"
   ]
  },
  {
   "cell_type": "code",
   "execution_count": 39,
   "metadata": {
    "id": "UIgF6qoHClYC"
   },
   "outputs": [],
   "source": [
    "train_docs = X_train.tolist()\n",
    "test_docs = X_test.tolist()"
   ]
  },
  {
   "cell_type": "code",
   "execution_count": 40,
   "metadata": {
    "id": "TjbrxswaP1go"
   },
   "outputs": [],
   "source": [
    "def get_vec(words, stop=None):\n",
    "    '''Set up countvectorizer with several parameters, print shape of vectorizer and return vectorizer in DataFrame'''\n",
    "    vectorizer = CountVectorizer(stop_words=stop, lowercase=True, min_df=0.001) # only keep keywords that appear in more than 0.1% of the reviews\n",
    "    X = vectorizer.fit_transform(words) \n",
    "    X = X.toarray()\n",
    "    print(X.shape)\n",
    "    feature = vectorizer.get_feature_names()\n",
    "    corpus_df = pd.DataFrame(X, columns=feature)\n",
    "    return corpus_df"
   ]
  },
  {
   "cell_type": "code",
   "execution_count": 41,
   "metadata": {
    "colab": {
     "base_uri": "https://localhost:8080/"
    },
    "id": "anh4xhY8P2oX",
    "outputId": "d1d15c20-04f9-445d-a02f-2a7df6fd5e12"
   },
   "outputs": [
    {
     "name": "stdout",
     "output_type": "stream",
     "text": [
      "(3814, 7495)\n"
     ]
    },
    {
     "name": "stderr",
     "output_type": "stream",
     "text": [
      "/usr/local/lib/python3.7/dist-packages/sklearn/utils/deprecation.py:87: FutureWarning: Function get_feature_names is deprecated; get_feature_names is deprecated in 1.0 and will be removed in 1.2. Please use get_feature_names_out instead.\n",
      "  warnings.warn(msg, category=FutureWarning)\n"
     ]
    },
    {
     "data": {
      "text/plain": [
       "said          1783\n",
       "india         1136\n",
       "new           1002\n",
       "year           918\n",
       "bjp            909\n",
       "congress       855\n",
       "party          837\n",
       "people         678\n",
       "like           669\n",
       "time           629\n",
       "modi           545\n",
       "company        534\n",
       "data           530\n",
       "government     522\n",
       "apple          520\n",
       "elections      517\n",
       "state          513\n",
       "users          507\n",
       "smartphone     493\n",
       "minister       467\n",
       "market         453\n",
       "film           437\n",
       "sabha          417\n",
       "lok            414\n",
       "000            395\n",
       "google         394\n",
       "election       393\n",
       "years          392\n",
       "10             388\n",
       "seats          377\n",
       "political      374\n",
       "facebook       373\n",
       "according      360\n",
       "app            355\n",
       "indian         352\n",
       "million        351\n",
       "chief          346\n",
       "world          340\n",
       "samsung        338\n",
       "pro            330\n",
       "just           324\n",
       "phone          322\n",
       "delhi          309\n",
       "camera         304\n",
       "galaxy         304\n",
       "work           301\n",
       "make           301\n",
       "says           290\n",
       "display        283\n",
       "price          281\n",
       "dtype: int64"
      ]
     },
     "execution_count": 41,
     "metadata": {},
     "output_type": "execute_result"
    }
   ],
   "source": [
    "corpus_df = get_vec(train_docs, 'english')\n",
    "corpus_df.sum().sort_values(ascending=False)[:50]"
   ]
  },
  {
   "cell_type": "code",
   "execution_count": 42,
   "metadata": {
    "id": "odAI7szvQ1B8"
   },
   "outputs": [],
   "source": [
    "## Reference: https://gist.github.com/gaurav5430/9fce93759eb2f6b1697883c3782f30de#file-nltk-lemmatize-sentences-py\n",
    "lemmatizer = WordNetLemmatizer()\n",
    "\n",
    "# function to convert nltk tag to wordnet tag\n",
    "def nltk_tag_to_wordnet_tag(nltk_tag):\n",
    "    if nltk_tag.startswith('J'):\n",
    "        return wordnet.ADJ\n",
    "    elif nltk_tag.startswith('V'):\n",
    "        return wordnet.VERB\n",
    "    elif nltk_tag.startswith('N'):\n",
    "        return wordnet.NOUN\n",
    "    elif nltk_tag.startswith('R'):\n",
    "        return wordnet.ADV\n",
    "    else:          \n",
    "        return None\n",
    "\n",
    "def lemmatize_sentence(sentence):\n",
    "    #tokenize the sentence and find the POS tag for each token\n",
    "    nltk_tagged = nltk.pos_tag(nltk.word_tokenize(sentence))  \n",
    "    #tuple of (token, wordnet_tag)\n",
    "    wordnet_tagged = map(lambda x: (x[0], nltk_tag_to_wordnet_tag(x[1])), nltk_tagged)\n",
    "    lemmatized_sentence = []\n",
    "    for word, tag in wordnet_tagged:\n",
    "        if tag is None:\n",
    "            #if there is no available tag, append the token as is\n",
    "            lemmatized_sentence.append(word)\n",
    "        else:        \n",
    "            #else use the tag to lemmatize the token\n",
    "            lemmatized_sentence.append(lemmatizer.lemmatize(word, tag))\n",
    "    return \" \".join(lemmatized_sentence)\n",
    "\n",
    "def lem(sentence):\n",
    "    '''Intake a list of review, lemmatize them and return a new list'''\n",
    "    result_lem = []\n",
    "    for s in tqdm(sentence):\n",
    "        s_lem = lemmatize_sentence(s)\n",
    "        result_lem.append(s_lem)\n",
    "    return result_lem"
   ]
  },
  {
   "cell_type": "code",
   "execution_count": 43,
   "metadata": {
    "id": "5U93gap4RLsX"
   },
   "outputs": [],
   "source": [
    "def word_replace_post_lem(line):\n",
    "    '''After lemmitization, do the regex cleaning'''\n",
    "    line = re.sub(r'\\b(bharatiya janata party  )?bjp\\b', '_bjp_', line)\n",
    "    line = re.sub(r'\\b(narendra modi)\\b', '_narendra_modi_', line)\n",
    "    line = re.sub(r'\\b(new delhi)\\b', '_new_delhi_', line)\n",
    "    line = re.sub(r'\\b(lok sabha)\\b', '_lok_sabha_', line)\n",
    "    line = re.sub(r'\\b([0-9]+-?)?y(ea)?rs?( |-)old\\b', '_year_old_', line)\n",
    "    return line"
   ]
  },
  {
   "cell_type": "code",
   "execution_count": 44,
   "metadata": {
    "id": "pksFEgJhUJj8"
   },
   "outputs": [],
   "source": [
    "def regex_lem(line):\n",
    "    line = lem(line)\n",
    "    line = [review.replace('(', '').replace(')', '') for review in line]\n",
    "    line = [word_replace_post_lem(review.lower()) for review in line]\n",
    "    return line"
   ]
  },
  {
   "cell_type": "code",
   "execution_count": 45,
   "metadata": {
    "id": "RFltm1W2USn_"
   },
   "outputs": [],
   "source": [
    "stopword_list = stopwords.words(\"english\")\n",
    "\n",
    "def get_vec(words, stop=stopword_list):\n",
    "    '''Revise the function by changing stop_words and adding token_pattern'''\n",
    "    vectorizer = CountVectorizer(stop_words=stop, lowercase=True, min_df=0.001, token_pattern=r'[a-zA-Z\\_]{3,}', binary=True)\n",
    "    X = vectorizer.fit_transform(words) \n",
    "    X = X.toarray()\n",
    "    print(X.shape)\n",
    "    feature = vectorizer.get_feature_names()\n",
    "    corpus_df = pd.DataFrame(X, columns=feature)\n",
    "    return corpus_df"
   ]
  },
  {
   "cell_type": "code",
   "execution_count": 46,
   "metadata": {
    "colab": {
     "base_uri": "https://localhost:8080/"
    },
    "id": "eDwuNh_oUWM5",
    "outputId": "85548f71-2f04-4f62-bcd9-06b704e0176d"
   },
   "outputs": [
    {
     "name": "stderr",
     "output_type": "stream",
     "text": [
      "100%|██████████| 3814/3814 [00:26<00:00, 145.97it/s]\n"
     ]
    },
    {
     "name": "stdout",
     "output_type": "stream",
     "text": [
      "(3814, 5983)\n"
     ]
    },
    {
     "name": "stderr",
     "output_type": "stream",
     "text": [
      "/usr/local/lib/python3.7/dist-packages/sklearn/utils/deprecation.py:87: FutureWarning: Function get_feature_names is deprecated; get_feature_names is deprecated in 1.0 and will be removed in 1.2. Please use get_feature_names_out instead.\n",
      "  warnings.warn(msg, category=FutureWarning)\n"
     ]
    },
    {
     "data": {
      "text/plain": [
       "say         1373\n",
       "also        1044\n",
       "year         847\n",
       "india        712\n",
       "make         697\n",
       "one          652\n",
       "time         606\n",
       "new          598\n",
       "come         569\n",
       "like         536\n",
       "two          528\n",
       "take         527\n",
       "company      511\n",
       "first        503\n",
       "last         501\n",
       "party        495\n",
       "election     483\n",
       "would        475\n",
       "use          468\n",
       "people       462\n",
       "dtype: int64"
      ]
     },
     "execution_count": 46,
     "metadata": {},
     "output_type": "execute_result"
    }
   ],
   "source": [
    "train_docs_lem = regex_lem(train_docs)\n",
    "train_docs_vec = get_vec(train_docs_lem)\n",
    "train_docs_vec.sum().sort_values(ascending=False)[:20]"
   ]
  },
  {
   "cell_type": "code",
   "execution_count": 47,
   "metadata": {
    "colab": {
     "base_uri": "https://localhost:8080/"
    },
    "id": "0a2uxRgHWb_m",
    "outputId": "c562eee9-cb10-46cc-e9a6-caa7de63e539"
   },
   "outputs": [
    {
     "name": "stderr",
     "output_type": "stream",
     "text": [
      "100%|██████████| 3814/3814 [00:25<00:00, 148.50it/s]\n"
     ]
    },
    {
     "name": "stdout",
     "output_type": "stream",
     "text": [
      "(3814, 5865)\n"
     ]
    },
    {
     "name": "stderr",
     "output_type": "stream",
     "text": [
      "/usr/local/lib/python3.7/dist-packages/sklearn/utils/deprecation.py:87: FutureWarning: Function get_feature_names is deprecated; get_feature_names is deprecated in 1.0 and will be removed in 1.2. Please use get_feature_names_out instead.\n",
      "  warnings.warn(msg, category=FutureWarning)\n"
     ]
    },
    {
     "data": {
      "text/plain": [
       "say         1444\n",
       "also        1032\n",
       "year         857\n",
       "india        734\n",
       "make         693\n",
       "one          643\n",
       "time         599\n",
       "new          573\n",
       "like         567\n",
       "come         566\n",
       "take         530\n",
       "two          521\n",
       "company      515\n",
       "election     507\n",
       "party        504\n",
       "first        485\n",
       "last         485\n",
       "would        470\n",
       "people       457\n",
       "market       454\n",
       "dtype: int64"
      ]
     },
     "execution_count": 47,
     "metadata": {},
     "output_type": "execute_result"
    }
   ],
   "source": [
    "test_docs_lem = regex_lem(test_docs)\n",
    "test_docs_vec = get_vec(test_docs_lem)\n",
    "test_docs_vec.sum().sort_values(ascending=False)[:20]"
   ]
  },
  {
   "cell_type": "code",
   "execution_count": 48,
   "metadata": {
    "id": "pP9GLoC6_xkX"
   },
   "outputs": [],
   "source": [
    "import spacy\n",
    "nlp = spacy.load('en_core_web_sm', disable=[\"ner\", \"pos\", \"tagger\"])\n",
    "stopwords_removed_train_docs = list(map(lambda doc: \" \".join([token.text for token in nlp(doc) if not token.is_stop]), train_docs_lem))\n",
    "stopwords_removed_test_docs = list(map(lambda doc: \" \".join([token.text for token in nlp(doc) if not token.is_stop]), test_docs_lem))"
   ]
  },
  {
   "cell_type": "code",
   "execution_count": 49,
   "metadata": {
    "id": "YAmMTUZxCbgE"
   },
   "outputs": [],
   "source": [
    "from keras.preprocessing.text import Tokenizer\n",
    "tokenizer = Tokenizer(num_words=500, oov_token=\"UNKNOWN_TOKEN\")\n",
    "stopwords_removed_docs = []\n",
    "for i in stopwords_removed_train_docs:\n",
    "    stopwords_removed_docs.append(i)\n",
    "for i in stopwords_removed_test_docs:\n",
    "    stopwords_removed_docs.append(i)\n",
    "tokenizer.fit_on_texts(stopwords_removed_docs)"
   ]
  },
  {
   "cell_type": "code",
   "execution_count": 50,
   "metadata": {
    "id": "kuqijRTmDQnh"
   },
   "outputs": [],
   "source": [
    "def integer_encode_documents(docs, tokenizer):\n",
    "    return tokenizer.texts_to_sequences(docs)"
   ]
  },
  {
   "cell_type": "code",
   "execution_count": 51,
   "metadata": {
    "id": "LRTkGJsCD-3b"
   },
   "outputs": [],
   "source": [
    "encoded_train_docs = integer_encode_documents(stopwords_removed_train_docs, tokenizer)\n",
    "encoded_test_docs = integer_encode_documents(stopwords_removed_test_docs, tokenizer)"
   ]
  },
  {
   "cell_type": "code",
   "execution_count": 52,
   "metadata": {
    "colab": {
     "base_uri": "https://localhost:8080/",
     "height": 354
    },
    "id": "vAsCEaYwEDHK",
    "outputId": "c0e78f1c-4db4-437e-da7f-f11bc08b4fe1"
   },
   "outputs": [
    {
     "data": {
      "text/plain": [
       "(array([2.336e+03, 1.149e+03, 2.140e+02, 6.100e+01, 2.800e+01, 1.100e+01,\n",
       "        6.000e+00, 2.000e+00, 4.000e+00, 3.000e+00]),\n",
       " array([  6. ,  63.3, 120.6, 177.9, 235.2, 292.5, 349.8, 407.1, 464.4,\n",
       "        521.7, 579. ]),\n",
       " <a list of 10 Patch objects>)"
      ]
     },
     "execution_count": 52,
     "metadata": {},
     "output_type": "execute_result"
    },
    {
     "data": {
      "image/png": "[encoded data removed]",
      "text/plain": [
       "<Figure size 432x288 with 1 Axes>"
      ]
     },
     "metadata": {
      "needs_background": "light"
     },
     "output_type": "display_data"
    }
   ],
   "source": [
    "import matplotlib.pyplot as plt\n",
    "plt.hist(list(map(lambda doc: len(doc), encoded_train_docs)))"
   ]
  },
  {
   "cell_type": "code",
   "execution_count": 53,
   "metadata": {
    "colab": {
     "base_uri": "https://localhost:8080/",
     "height": 354
    },
    "id": "cSh6OvpPHSfk",
    "outputId": "95eec3d8-4ead-446c-8acf-1a19c5ef4823"
   },
   "outputs": [
    {
     "data": {
      "text/plain": [
       "(array([1694., 1393.,  517.,  117.,   44.,   20.,   13.,    7.,    6.,\n",
       "           3.]),\n",
       " array([  5. ,  49.4,  93.8, 138.2, 182.6, 227. , 271.4, 315.8, 360.2,\n",
       "        404.6, 449. ]),\n",
       " <a list of 10 Patch objects>)"
      ]
     },
     "execution_count": 53,
     "metadata": {},
     "output_type": "execute_result"
    },
    {
     "data": {
      "image/png": "[encoded data removed]",
      "text/plain": [
       "<Figure size 432x288 with 1 Axes>"
      ]
     },
     "metadata": {
      "needs_background": "light"
     },
     "output_type": "display_data"
    }
   ],
   "source": [
    "import matplotlib.pyplot as plt\n",
    "plt.hist(list(map(lambda doc: len(doc), encoded_test_docs)))"
   ]
  },
  {
   "cell_type": "markdown",
   "metadata": {
    "id": "ihAbn5l-M2TY"
   },
   "source": [
    "After observing the overall length of story, choose 150 as max_length"
   ]
  },
  {
   "cell_type": "code",
   "execution_count": 54,
   "metadata": {
    "id": "Ml9YgezrHZmk"
   },
   "outputs": [],
   "source": [
    "max_length = 150\n",
    "padded_train_docs = pad_sequences(encoded_train_docs, maxlen=max_length, padding='post')\n",
    "padded_test_docs = pad_sequences(encoded_test_docs, maxlen=max_length, padding='post')"
   ]
  },
  {
   "cell_type": "code",
   "execution_count": 55,
   "metadata": {
    "colab": {
     "base_uri": "https://localhost:8080/"
    },
    "id": "S48e_uPrHmP6",
    "outputId": "7bb8798d-7fa6-4d0a-8d0a-26462db758b6"
   },
   "outputs": [
    {
     "name": "stdout",
     "output_type": "stream",
     "text": [
      "Vocab size is 36983 unique tokens.\n"
     ]
    }
   ],
   "source": [
    "vocab_size = int(len(tokenizer.word_index) * 1.3)\n",
    "print(f\"Vocab size is {vocab_size} unique tokens.\")"
   ]
  },
  {
   "cell_type": "code",
   "execution_count": 56,
   "metadata": {
    "id": "WeRmojo-H1Ja"
   },
   "outputs": [],
   "source": [
    "EMBEDDING_SIZE = 50"
   ]
  },
  {
   "cell_type": "code",
   "execution_count": 57,
   "metadata": {
    "id": "tgrbE1OLH3PI"
   },
   "outputs": [],
   "source": [
    "from keras.utils.vis_utils import plot_model"
   ]
  },
  {
   "cell_type": "code",
   "execution_count": 58,
   "metadata": {
    "colab": {
     "base_uri": "https://localhost:8080/"
    },
    "id": "BP4FPfSRH5Af",
    "outputId": "f95a3693-858f-4428-bee7-ed9e1621da73"
   },
   "outputs": [
    {
     "name": "stdout",
     "output_type": "stream",
     "text": [
      "Model: \"sequential\"\n",
      "_________________________________________________________________\n",
      " Layer (type)                Output Shape              Param #   \n",
      "=================================================================\n",
      " embedding (Embedding)       (None, 150, 50)           1849150   \n",
      "                                                                 \n",
      " flatten (Flatten)           (None, 7500)              0         \n",
      "                                                                 \n",
      " dense (Dense)               (None, 1)                 7501      \n",
      "                                                                 \n",
      "=================================================================\n",
      "Total params: 1,856,651\n",
      "Trainable params: 1,856,651\n",
      "Non-trainable params: 0\n",
      "_________________________________________________________________\n"
     ]
    }
   ],
   "source": [
    "# define the model\n",
    "model = Sequential()\n",
    "model.add(Embedding(vocab_size, EMBEDDING_SIZE, input_length=max_length))\n",
    "model.add(Flatten()) \n",
    "\n",
    "model.add(Dense(1, activation='sigmoid')) \n",
    "\n",
    "model.compile(optimizer='adam', loss='binary_crossentropy', metrics=['acc'])\n",
    "# summarize the model\n",
    "model.summary()"
   ]
  },
  {
   "cell_type": "code",
   "execution_count": 59,
   "metadata": {
    "colab": {
     "base_uri": "https://localhost:8080/"
    },
    "id": "AlryaUcJH7fI",
    "outputId": "39f6cd74-0a02-458e-f098-5edaab0a03cf"
   },
   "outputs": [
    {
     "name": "stdout",
     "output_type": "stream",
     "text": [
      "Epoch 1/50\n",
      "120/120 [==============================] - 3s 22ms/step - loss: 0.4112 - acc: 0.8301\n",
      "Epoch 2/50\n",
      "120/120 [==============================] - 3s 23ms/step - loss: 0.1408 - acc: 0.9523\n",
      "Epoch 3/50\n",
      "120/120 [==============================] - 3s 22ms/step - loss: 0.0918 - acc: 0.9704\n",
      "Epoch 4/50\n",
      "120/120 [==============================] - 2s 20ms/step - loss: 0.0718 - acc: 0.9767\n",
      "Epoch 5/50\n",
      "120/120 [==============================] - 3s 25ms/step - loss: 0.0592 - acc: 0.9816\n",
      "Epoch 6/50\n",
      "120/120 [==============================] - 2s 19ms/step - loss: 0.0513 - acc: 0.9835\n",
      "Epoch 7/50\n",
      "120/120 [==============================] - 2s 19ms/step - loss: 0.0425 - acc: 0.9872\n",
      "Epoch 8/50\n",
      "120/120 [==============================] - 2s 19ms/step - loss: 0.0362 - acc: 0.9900\n",
      "Epoch 9/50\n",
      "120/120 [==============================] - 3s 21ms/step - loss: 0.0308 - acc: 0.9919\n",
      "Epoch 10/50\n",
      "120/120 [==============================] - 3s 23ms/step - loss: 0.0267 - acc: 0.9932\n",
      "Epoch 11/50\n",
      "120/120 [==============================] - 2s 19ms/step - loss: 0.0229 - acc: 0.9937\n",
      "Epoch 12/50\n",
      "120/120 [==============================] - 2s 19ms/step - loss: 0.0192 - acc: 0.9961\n",
      "Epoch 13/50\n",
      "120/120 [==============================] - 2s 19ms/step - loss: 0.0160 - acc: 0.9963\n",
      "Epoch 14/50\n",
      "120/120 [==============================] - 2s 19ms/step - loss: 0.0144 - acc: 0.9966\n",
      "Epoch 15/50\n",
      "120/120 [==============================] - 2s 19ms/step - loss: 0.0121 - acc: 0.9979\n",
      "Epoch 16/50\n",
      "120/120 [==============================] - 2s 19ms/step - loss: 0.0115 - acc: 0.9982\n",
      "Epoch 17/50\n",
      "120/120 [==============================] - 2s 19ms/step - loss: 0.0095 - acc: 0.9982\n",
      "Epoch 18/50\n",
      "120/120 [==============================] - 2s 19ms/step - loss: 0.0080 - acc: 0.9987\n",
      "Epoch 19/50\n",
      "120/120 [==============================] - 2s 19ms/step - loss: 0.0074 - acc: 0.9990\n",
      "Epoch 20/50\n",
      "120/120 [==============================] - 2s 19ms/step - loss: 0.0065 - acc: 0.9992\n",
      "Epoch 21/50\n",
      "120/120 [==============================] - 2s 19ms/step - loss: 0.0060 - acc: 0.9990\n",
      "Epoch 22/50\n",
      "120/120 [==============================] - 2s 19ms/step - loss: 0.0054 - acc: 0.9992\n",
      "Epoch 23/50\n",
      "120/120 [==============================] - 2s 19ms/step - loss: 0.0050 - acc: 0.9995\n",
      "Epoch 24/50\n",
      "120/120 [==============================] - 2s 19ms/step - loss: 0.0042 - acc: 0.9995\n",
      "Epoch 25/50\n",
      "120/120 [==============================] - 2s 19ms/step - loss: 0.0064 - acc: 0.9987\n",
      "Epoch 26/50\n",
      "120/120 [==============================] - 2s 19ms/step - loss: 0.0034 - acc: 0.9995\n",
      "Epoch 27/50\n",
      "120/120 [==============================] - 2s 19ms/step - loss: 0.0032 - acc: 0.9997\n",
      "Epoch 28/50\n",
      "120/120 [==============================] - 2s 19ms/step - loss: 0.0030 - acc: 0.9997\n",
      "Epoch 29/50\n",
      "120/120 [==============================] - 2s 19ms/step - loss: 0.0026 - acc: 0.9997\n",
      "Epoch 30/50\n",
      "120/120 [==============================] - 2s 19ms/step - loss: 0.0026 - acc: 0.9995\n",
      "Epoch 31/50\n",
      "120/120 [==============================] - 2s 19ms/step - loss: 0.0025 - acc: 0.9995\n",
      "Epoch 32/50\n",
      "120/120 [==============================] - 2s 19ms/step - loss: 0.0022 - acc: 0.9997\n",
      "Epoch 33/50\n",
      "120/120 [==============================] - 2s 19ms/step - loss: 0.0023 - acc: 0.9995\n",
      "Epoch 34/50\n",
      "120/120 [==============================] - 2s 19ms/step - loss: 0.0022 - acc: 0.9997\n",
      "Epoch 35/50\n",
      "120/120 [==============================] - 2s 19ms/step - loss: 0.0021 - acc: 0.9997\n",
      "Epoch 36/50\n",
      "120/120 [==============================] - 2s 19ms/step - loss: 0.0019 - acc: 0.9997\n",
      "Epoch 37/50\n",
      "120/120 [==============================] - 2s 19ms/step - loss: 0.0019 - acc: 0.9997\n",
      "Epoch 38/50\n",
      "120/120 [==============================] - 2s 19ms/step - loss: 0.0017 - acc: 0.9995\n",
      "Epoch 39/50\n",
      "120/120 [==============================] - 2s 19ms/step - loss: 0.0017 - acc: 0.9997\n",
      "Epoch 40/50\n",
      "120/120 [==============================] - 2s 19ms/step - loss: 0.0019 - acc: 0.9995\n",
      "Epoch 41/50\n",
      "120/120 [==============================] - 2s 19ms/step - loss: 0.0017 - acc: 0.9997\n",
      "Epoch 42/50\n",
      "120/120 [==============================] - 2s 19ms/step - loss: 0.0018 - acc: 0.9997\n",
      "Epoch 43/50\n",
      "120/120 [==============================] - 2s 19ms/step - loss: 0.0019 - acc: 0.9992\n",
      "Epoch 44/50\n",
      "120/120 [==============================] - 2s 19ms/step - loss: 0.0016 - acc: 0.9997\n",
      "Epoch 45/50\n",
      "120/120 [==============================] - 2s 19ms/step - loss: 0.0017 - acc: 0.9995\n",
      "Epoch 46/50\n",
      "120/120 [==============================] - 2s 19ms/step - loss: 0.0016 - acc: 0.9997\n",
      "Epoch 47/50\n",
      "120/120 [==============================] - 2s 19ms/step - loss: 0.0017 - acc: 0.9995\n",
      "Epoch 48/50\n",
      "120/120 [==============================] - 2s 20ms/step - loss: 0.0013 - acc: 0.9997\n",
      "Epoch 49/50\n",
      "120/120 [==============================] - 2s 19ms/step - loss: 0.0018 - acc: 0.9997\n",
      "Epoch 50/50\n",
      "120/120 [==============================] - 2s 19ms/step - loss: 0.0023 - acc: 0.9995\n",
      "120/120 [==============================] - 1s 2ms/step - loss: 0.1473 - acc: 0.9691\n",
      "Accuracy: 96.906137\n"
     ]
    }
   ],
   "source": [
    "# fit the model\n",
    "model.fit(padded_train_docs, y_train, epochs=50, verbose=1)\n",
    "# evaluate the model\n",
    "loss, accuracy = model.evaluate(padded_test_docs, y_test, verbose=1)\n",
    "print('Accuracy: %f' % (accuracy*100))"
   ]
  },
  {
   "cell_type": "markdown",
   "metadata": {
    "id": "HV22wZxdYlqq"
   },
   "source": [
    "## Perform topic modeling"
   ]
  },
  {
   "cell_type": "code",
   "execution_count": 60,
   "metadata": {
    "colab": {
     "base_uri": "https://localhost:8080/"
    },
    "id": "t_8gI21RZNLk",
    "outputId": "f2fc38ef-2c7c-49ec-d1fb-7889e0f4134f"
   },
   "outputs": [
    {
     "name": "stderr",
     "output_type": "stream",
     "text": [
      "100%|██████████| 7628/7628 [00:51<00:00, 147.10it/s]\n"
     ]
    }
   ],
   "source": [
    "df['STORY_lem'] = regex_lem(df['STORY'].tolist())"
   ]
  },
  {
   "cell_type": "code",
   "execution_count": 61,
   "metadata": {
    "colab": {
     "base_uri": "https://localhost:8080/"
    },
    "id": "_pld5HuPYq0P",
    "outputId": "03a49791-65c5-435f-dfa3-5a0dfb4ae60d"
   },
   "outputs": [
    {
     "name": "stdout",
     "output_type": "stream",
     "text": [
      "TF-IDF: (7628, 53)\n",
      "   10 year  64gb internal  6gb ram  _bjp_ leader  _lok_sabha_ election  \\\n",
      "0      0.0            0.0      0.0           0.0                   0.0   \n",
      "1      0.0            0.0      0.0           0.0                   0.0   \n",
      "2      0.0            0.0      0.0           0.0                   0.0   \n",
      "3      0.0            0.0      0.0           0.0                   0.0   \n",
      "4      0.0            0.0      0.0           0.0                   0.0   \n",
      "\n",
      "   _lok_sabha_ poll  _lok_sabha_ seat  agency fee  artificial intelligence  \\\n",
      "0               0.0               0.0         0.0                      0.0   \n",
      "1               0.0               0.0         0.0                      0.0   \n",
      "2               0.0               0.0         0.0                      0.0   \n",
      "3               0.0               0.0         0.0                      0.0   \n",
      "4               0.0               0.0         0.0                      0.0   \n",
      "\n",
      "   assembly election  ...  smartphone maker  social medium  story publish  \\\n",
      "0                0.0  ...               0.0            0.0            0.0   \n",
      "1                0.0  ...               0.0            0.0            0.0   \n",
      "2                0.0  ...               0.0            0.0            0.0   \n",
      "3                0.0  ...               0.0            0.0            0.0   \n",
      "4                0.0  ...               0.0            0.0            0.0   \n",
      "\n",
      "   text headline  union minister  uttar pradesh  vice president  west bengal  \\\n",
      "0            0.0             0.0            0.0             0.0          0.0   \n",
      "1            0.0             0.0            0.0             0.0          0.0   \n",
      "2            0.0             0.0            0.0             0.0          0.0   \n",
      "3            0.0             0.0            0.0             0.0          0.0   \n",
      "4            0.0             0.0            0.0             0.0          0.0   \n",
      "\n",
      "   wire agency  year ago  \n",
      "0          0.0       0.0  \n",
      "1          0.0       0.0  \n",
      "2          0.0       0.0  \n",
      "3          0.0       0.0  \n",
      "4          0.0       0.0  \n",
      "\n",
      "[5 rows x 53 columns]\n"
     ]
    },
    {
     "name": "stderr",
     "output_type": "stream",
     "text": [
      "/usr/local/lib/python3.7/dist-packages/sklearn/utils/deprecation.py:87: FutureWarning: Function get_feature_names is deprecated; get_feature_names is deprecated in 1.0 and will be removed in 1.2. Please use get_feature_names_out instead.\n",
      "  warnings.warn(msg, category=FutureWarning)\n"
     ]
    }
   ],
   "source": [
    "vectorizer = TfidfVectorizer(ngram_range=(2,2),\n",
    "                             min_df=0.01, max_df=0.4, stop_words=\"english\")\n",
    "\n",
    "X = vectorizer.fit_transform(df['STORY_lem'])\n",
    "terms = vectorizer.get_feature_names()\n",
    "tf_idf = pd.DataFrame(X.toarray(), columns=terms)\n",
    "print(f\"TF-IDF: {tf_idf.shape}\")\n",
    "print(tf_idf.head(5))"
   ]
  },
  {
   "cell_type": "markdown",
   "metadata": {
    "id": "Nhwoplz-vGMI"
   },
   "source": [
    "Since there are four sections in original dataset, I choose n_components = 4."
   ]
  },
  {
   "cell_type": "code",
   "execution_count": 62,
   "metadata": {
    "colab": {
     "base_uri": "https://localhost:8080/"
    },
    "id": "hH47Z6BsacyJ",
    "outputId": "ded9b1cc-278a-452e-e0d1-6caa60ecb5ac"
   },
   "outputs": [
    {
     "name": "stderr",
     "output_type": "stream",
     "text": [
      "/usr/local/lib/python3.7/dist-packages/sklearn/decomposition/_nmf.py:294: FutureWarning: The 'init' value, when 'init=None' and n_components is less than n_samples and n_features, will be changed from 'nndsvd' to 'nndsvda' in 1.1 (renaming of 0.26).\n",
      "  FutureWarning,\n"
     ]
    }
   ],
   "source": [
    "nmf = NMF(n_components=4)\n",
    "W = nmf.fit_transform(X)\n",
    "H = nmf.components_"
   ]
  },
  {
   "cell_type": "code",
   "execution_count": 63,
   "metadata": {
    "colab": {
     "base_uri": "https://localhost:8080/"
    },
    "id": "v7IHL8NNa80R",
    "outputId": "b9121526-a3cf-4272-cc6f-6420b21a9594"
   },
   "outputs": [
    {
     "name": "stdout",
     "output_type": "stream",
     "text": [
      "TOPIC 0\n",
      "\n",
      "\bprime minister (40.5%)\n",
      "\n",
      "\bminister _narendra_modi_ (25.1%)\n",
      "\n",
      "\bgeneral election (4.1%)\n",
      "\n",
      "\belection commission (3.5%)\n",
      "\n",
      "\brahul gandhi (2.9%)\n",
      "\n",
      "==================================================\n",
      "TOPIC 1\n",
      "\n",
      "\bsocial medium (76.2%)\n",
      "\n",
      "\bgeneral election (2.5%)\n",
      "\n",
      "\bpolitical party (2.5%)\n",
      "\n",
      "\bavengers endgame (2.3%)\n",
      "\n",
      "\belection commission (2.2%)\n",
      "\n",
      "==================================================\n",
      "TOPIC 2\n",
      "\n",
      "\bagency fee (12.0%)\n",
      "\n",
      "\bfee modification (12.0%)\n",
      "\n",
      "\bwire agency (12.0%)\n",
      "\n",
      "\bmodification text (12.0%)\n",
      "\n",
      "\bstory publish (12.0%)\n",
      "\n",
      "==================================================\n",
      "TOPIC 3\n",
      "\n",
      "\b_lok_sabha_ election (20.6%)\n",
      "\n",
      "\bchief minister (15.6%)\n",
      "\n",
      "\b_lok_sabha_ seat (7.1%)\n",
      "\n",
      "\buttar pradesh (6.1%)\n",
      "\n",
      "\bgeneral election (4.9%)\n",
      "\n",
      "==================================================\n"
     ]
    }
   ],
   "source": [
    "from typing import List\n",
    "\n",
    "def get_top_tf_idf_tokens_for_topic(H: np.array, feature_names: List[str], num_top_tokens: int = 5):\n",
    "  \"\"\"\n",
    "  Uses the H matrix (K components x M original features) to identify for each\n",
    "  topic the most frequent tokens.\n",
    "  \"\"\"\n",
    "  for topic, vector in enumerate(H):\n",
    "    print(f\"TOPIC {topic}\\n\")\n",
    "    total = vector.sum()\n",
    "    top_scores = vector.argsort()[::-1][:num_top_tokens]\n",
    "    token_names = list(map(lambda idx: feature_names[idx], top_scores))\n",
    "    strengths = list(map(lambda idx: vector[idx] / total, top_scores))\n",
    "    \n",
    "    for strength, token_name in zip(strengths, token_names):\n",
    "        print(f\"\\b{token_name} ({round(strength * 100, 1)}%)\\n\")\n",
    "    print(f\"=\" * 50)\n",
    "\n",
    "get_top_tf_idf_tokens_for_topic(H, tf_idf.columns.tolist(), 5)"
   ]
  },
  {
   "cell_type": "code",
   "execution_count": 64,
   "metadata": {
    "id": "eQHJ3uYqt2qG"
   },
   "outputs": [],
   "source": [
    "def get_top_documents_for_each_topic(W: np.array, documents: List[str], num_docs: int = 5):\n",
    "   sorted_docs = W.argsort(axis=0)[::-1]\n",
    "   top_docs = sorted_docs[:num_docs].T\n",
    "   per_document_totals = W.sum(axis=1)\n",
    "   for topic, top_documents_for_topic in enumerate(top_docs):\n",
    "       print(f\"Topic {topic}\")\n",
    "       for doc in top_documents_for_topic:\n",
    "           score = W[doc][topic]\n",
    "           percent_about_topic = round(score / per_document_totals[doc] * 100, 1)\n",
    "           print(f\"{percent_about_topic}%\")\n",
    "           print(documents[doc].replace('\\n',''))\n",
    "       print(\"=\" * 50)"
   ]
  },
  {
   "cell_type": "code",
   "execution_count": 65,
   "metadata": {
    "colab": {
     "base_uri": "https://localhost:8080/"
    },
    "id": "oaW8PmxcnQY1",
    "outputId": "712031b9-9ce6-4bfe-b968-f7b332c899b3"
   },
   "outputs": [
    {
     "name": "stdout",
     "output_type": "stream",
     "text": [
      "Topic 0\n",
      "100.0%\n",
      "A day after Akshay Kumar said he would be getting into an “unknown and uncharted territory” with something he had not done before, the Bollywood actor Tuesday said he will have a “candid and completely non political” chat with Prime Minister Narendra Modi on WednesdayThe 51-year-old star took to Twitter to announce that his conversation with the prime minister will be a “breather” in election time\n",
      "100.0%\n",
      "With the introduction of algorithmic ranking which prioritizes?‘engagement’, the?right Facebook comment at the right time is the new gateway to mass attention on the internet. (AFP)From Pakistani propaganda to countering politicians, comments on top Facebook pages are resetting the narrativeIn February, following a terrorist attack by Pakistan-based Jaish-e-Mohammed that killed 40 Indian paramilitary soldiers, and retaliatory air strikes by India on a terrorist training camp in Pakistan’s Balakot, the two nuclear-armed neighbours were on the brink of war.As tensions heightened at the border, netizens of the two nations were fighting another war on Facebook. Pakistani users flooded the comment section of some of India’s most followed media pages: they called out journalists (“Itz now officiaL, US says no indian fighter jet has capability to hit F-16. And here in india its media and iaf keeps spreading fake propaganda against PAF.\"); they challenged the claims made by Indian authorities (“BREAKING: Indian Jets dropped some massive tomatoes in Pakistan injuring 5 trees.\"); they heaped praise on their Prime Minister Imran Khan and ridiculed India’s Prime Minister Narendra Modi (“See the difference between the two national leaders An Oxford graduate And a tea seller.\").In volume terms, Indians outnumbered Pakistanis on these pages. But nationality is irrelevant for Facebook’s comment ranking algorithm: the counter-narrative offered by Pakistanis—“liked\" hundreds of times by their fellow countrymen—occupied the top position in the “most relevant\" comment display, Facebook’s ranking order where the “most engaging comments\" are shown first—often those “with the most likes and replies\".Some Indians were visibly uncomfortable: one issued a warning to not be swayed by their posts (“There are lot of Pakistani guys who are commenting on our news posts and misguiding us constantly.. be careful!\"); another wanted them to be blocked (“can you block these Pakistanis from commenting on this link My blood boils to see them commenting.\").But that’s not how the internet works. While news channels can decide whom they want to invite on their debates; newspaper journalists can choose the sources they interview; and politicians can do away with engagement altogether—such control is rarely visible on the comment section of Facebook. It is open to all.And what gets said matters because while a top comment on a popular page may garner 2,000 “likes\", the average interaction (like, angry, love and sad, etc.) on a Times of India post is only about 120. With the introduction of algorithmic ranking which prioritizes “engagement\", the right Facebook comment at the right time on the right page is the new gateway to mass attention on the internet.Mint reviewed the “most relevant\" comments on the 50 most commented posts shared over the last six months on 18 popular Indian Facebook pages (see graphic for the complete list). It includes the most followed mainstream media pages in English and Hindi, accounts of national and regional politicians, and partisan political pages.\n",
      "97.2%\n",
      "I believe in Ayurveda, says PM Modi\"I have led such a difficult life that I don't know how these expensive medicine workWhen Barack Obama was concerned about PM Modi's sleep cycle\"Even Obama, who is now a close friend of mine, asks me, 'Why do you sleep so less? This is your addiction to work but you should not sleep so lessPM Modi on the most valuable thing he brought from Gujarat\"When I became the Prime Minister, I had a benefit which none other Prime Minister had I was the longest serving Chief Minister of Gujarat and this had given me the immense experience to work for the betterment of the nation,\" says Prime Minister Narendra ModiPM Modi on the wish he would make if he had Alladin ka chirag\"Educationalists should stop telling the future generation about the 'Alladin ka chirag' and should teach them to work hard,\" says Prime Minister Narendra ModiPM Modi laughs out loudAkshay Kumar asks Narendra Modi if he is truly a Gujarati as Gujaratis are very particular about their money So I gave Rs 21 lakh for the education of the daughters of the peon and the driver of the secretariat,\" says Prime Minister Narendra Modi This may harm me in the elections but Mamata didi does select kurta for me and sends it to me once in a year\n",
      "100.0%\n",
      "Modi’s strong response to the Pulwama and Uri terrorist attacks may have high recall value for the Indian public when they elect the next governmentModi had spoken tough on terrorism emanating from Pakistan well before he assumed office on 26 May 2014, and subsequently tooNEW DELHI: Akey engagement of Prime Minister Narendra Modi on 25 February was dedicating the National War Memorial to the nation. Modi was at his fiery best, slamming the opposition for compromising national security through delayed acquisitions of military hardware and corrupt procurement procedures. There was nothing in his demeanour to suggest that India would in the space of less than 12 hours, in the early hours of 26 February, be using its Air Force to conduct an air strike inside Pakistani territory, something that last happened in the 1971 war with Pakistan. To his immediate and wider audience, Modi’s speech seemed typical of him, turning tables on his detractors who have accused him of helping big business win spin-off projects from defence deals.A person familiar with the events of 25 February said Modi returned to his official residence past 9pm. “We were later told that the prime minister did not go to sleep as he usually does by midnight but was awake well past that time,\" said the person mentioned above. “It was a little before 3am on Tuesday (26 February) that the prime minister was informed that our fighter aircraft had taken off for their mission,\" the person said.It was past 4am on 26 February morning when Mirage 2000 jets of the Indian Air Force returned to their base after bombing a terrorist training camp in Balakot in Pakistan’s Khyber Pakhtunkhwa province. The person quoted above said Modi spoke to one of the pilots who took part in the strike, as well as the Air Force officer in charge of the Gwalior base from where the fighter jets had taken off.It was decided that foreign secretary Vijay Gokhale would make an official announcement to convey to the country and to the international audience that India’s air strike was a “pre-emptive\" counter-terrorism operation in the face of “imminent\" danger of another possible terror attack and not a military one and that it came against the backdrop of a suicide attack on 14 February in Jammu and Kashmir’s Pulwama region in which 40 paramilitary soldiers were killed.\n",
      "100.0%\n",
      "Surya who is originally from Chikmagalur district is the nephew of Basavanagudi legislator L. A. Ravisubramanya.Surya is also known for his strong views on nationalism often questioning, throwing around the patriotic test to those who question the views of Prime Minister Narendra Modi or the BJP.However, many of his close aides and others who work with him do not consider him a grounded person. Some even going far enough to call him a “Brahminical bigot\".\n",
      "==================================================\n",
      "Topic 1\n",
      "100.0%\n",
      "Gunn was fired by Marvel Studios’ parent company Disney in August last year after his old, offensive tweets resurfaced on social media\n",
      "100.0%\n",
      "YouTube, which has lot of social media elements, recently added Snapchat-like AR selfie filters for YouTube StoriesDelhi-based Hitesh Goyal spends almost two hours daily on an augmented reality (AR) game called Quest on social media platform magicpin to improve his ranking in the leader boards and win prizes. Inspired by Pokémon Go, Quest is an AR game where users can win points by finding characters or treasure chests inside 800,000 partner stores and restaurants in India. They can use the points later on magicpin’s app for various discounts.AR stickers, AR games, 360-degree videos and stories are being increasingly used on social media platforms, particularly by youngsters, clearly changing the way people engage on social media.\n",
      "100.0%\n",
      "Social media giant Facebook's monthly active users (MAUs) grew 8 per cent year-over-year MAUs to reach 2.38 billion at the end of first quarter of this year while the number of people using Facebook Stories hit 500 million every day.The platform saw the same rate of growth in daily active users, Facebook said in its earnings statement late Wednesday.\n",
      "100.0%\n",
      "Bengaluru: Photo-sharing app Instagram’s more than 1 billion users will now be able to evaluate the authenticity of accounts, weeks after parent Facebook Inc rolled out similar measures in a bid to weed out fake accounts on its social media platform.Instagram said on Tuesday it will launch the “About This Account\" feature that will allow users to see the advertisements an account is running, the country where the account is located, username changes in the past year as well as other details.“Keeping people with bad intentions off our platform is incredibly important ... that means trying to make sure the people you follow and the accounts you interact with are who they say they are, and stopping bad actors before they cause harm,\" Instagram co-founder and Chief Technology Officer Mike Krieger said.\n",
      "100.0%\n",
      "Ottawa: About half of Americans and Canadians get their news primarily from social media, yet most don't trust this source of information, according to a survey released Tuesday.According to the Maru/Matchbox poll, 52% of Americans and 48% of Canadians said they find out what's happening in the world through social media platforms such as Facebook, Instagram and Twitter.\n",
      "==================================================\n",
      "Topic 2\n",
      "100.0%\n",
      "MSCI and Hang Seng Indexes Co. Ltd., which included DYF in its Composite LargeCap & MidCap Index in February, can remove stocks from benchmarks because of a trading suspension, according to rules on the two firms’ websites. Representatives for Hang Seng didn’t reply to a request seeking comment, while MSCI didn’t comment on DYF.This story has been published from a wire agency feed without modifications to the text. Only the headline has been changed.\n",
      "100.0%\n",
      "This story has been published from a wire agency feed without modifications to the text. Only the headline has been changed.\n",
      "100.0%\n",
      "This story has been published from a wire agency feed without modifications to the text. Only the headline has been changed.\n",
      "100.0%\n",
      "The challenge is most acute for sports car manufacturers, Michael Pfadenhauer, head of acoustics at Porsche, told the company's in-house Christophorus magazine.\"There is no e-sound. It has to be invented. The sound transports the emotions of a vehicle. It gives you feedback about the potency and capability of the car,\" he said.\"At low speeds and revs it needs to enable comfortable driving. At higher speeds in sports mode, a more intense acoustic feedback is needed to make customers experience the potential of the vehicle,\" Pfadenhauer told the magazine.This story has been published from a wire agency feed without modifications to the text. Only the headline has been changed.\n",
      "100.0%\n",
      "This story has been published from a wire agency feed without modifications to the text. Only the headline has been changed.\n",
      "==================================================\n",
      "Topic 3\n",
      "100.0%\n",
      "Intelligence units are on high alert over the rising instances of encounters between militants and security forces following the suicide attack on a Central Reserve Police Force (CRPF) convoy in Pulwama on 14 February that killed 40 personnel of the force. However, this has not deterred the Congress-NC alliance, the PDP and the BJP from firming up their campaign plans to win as many of the six Lok Sabha seats from the state, albeit with an eye on the assembly elections.The Congress-NC alliance is working hard to increase its tally in the Kashmir valley. NC president and former chief minister Farooq Abdullah had lost to PDP’s Tariq Hameed Karra in Srinagar in the 2014 Lok Sabha elections, but had subsequently won the 2017 bypoll to the constituency defeating Nazir Ahmed Khan of the PDP.The PDP , which has only one member of Parliament (MP) in Muzaffar Hussain Baig who represents the Baramulla Lok Sabha constituency, may find little support on the ground. Its government fell in June 2018, following the BJP’s decision to walk out of the alliance between the two parties in the state. Former chief minister and PDP chief Mehbooba Mufti has, however, decided to contest from Anantnag, which has been vacant since she resigned in April 2016. The party is also readying to field a strong candidate to take on Abdullah in the pivotal Srinagar seat. The party has, however, agreed to stay away from the Udhampur constituency so that secular votes are not divided.The BJP, which had won the Ladakh, Udhampur and Jammu constituencies in the Jammu region in the 2014 Lok Sabha elections with a vote share of 23%, aims to make inroads into the valley. However, political analysts believe that it will be an uphill task for the saffron party to win as many seats this time.\n",
      "100.0%\n",
      "The key parties are the Congress and BJP. Sukh Ram, who has been in and out of the Congress, rejoined the party in March. The Communist Party of India (Marxist) has a small presence in the state.The most prominent candidate in the state is Anurag Singh Thakur, a young member of Parliament from the Hamirpur seat. Thakur, son of former chief minister Prem Kumar Dhumal, was also the president of the Board of Control for Cricket in India. State legislators Kishan Kapoor and Suresh Kashyap, who have a lot of influence in their respective regions, are also contesting the Lok Sabha elections. The Congress has fielded Aashray Sharma in Mandi to take on current BJP member of Parliament Ram Swaroop Sharma.\n",
      "100.0%\n",
      "The Lok Sabha election results will add to their problems. Anything can happen after the polls. The coalition is itself not confident of continuing in power, and it is well known that they wanted to manage things only till the parliamentary elections. The statements made by chief minister H.D. Kumaraswamy that he works like a clerk and that he has no independence show the problems they have. Their problems, disgruntlement, mutual distrust will have an impact on parliament elections.The achievements of the Modi government, the failure of the coalition in Karnataka and our (BJP’s) hard work will all be beneficial to us. Though there is a drought, they (coalition) are doing nothing and only speak about the farm loan waiver. Modi government has given ?6,000 direct income transfer to farmers. Income tax relief has been given to the middle class with several concessions and a lot has been done for the labour community. These are the issues that people are talking about. The fact that there is no PM candidate from the opposition is also beneficial for us. Lakhs of youngsters, irrespective of caste and community, are supporting Modi.Nothing has been finalized yet and we will complete this process in a few weeks. We finished one round of discussions with (BJP chief) Amit Shah. Another one will take place soon as we are left with only seven weeks for the elections. We have identified candidates for all constituencies.After the elections, are you expecting any change in your own organization? Is there a succession plan in place?\n",
      "100.0%\n",
      "This time all anti-national forces have threatened the people against coming out and voting, says Nirmal SinghThe BJP believes very strongly that Article 370 has been responsible for a lot of Kashmir’s problems, says NirmalNEW DELHI: As Kashmir prepares to vote in the fifth phase of the Lok Sabha elections, the former speaker of the dissolved Jammu and Kashmir legislative assembly and former deputy chief minister Nirmal Singh of the Bharatiya Janata Party (BJP) speaks about the issues before the electorate. Edited excerpts from an interview:Voter turnout has been very low both in Srinagar and Anantnag, at 13%. Do you think it will play spoiler for the BJP’s chances in the state?\n",
      "100.0%\n",
      "More than anything else, candidates, including former chief minister and Peoples Democratic Party (PDP) leader Mehbooba Mufti, have to contend with a reluctant electorate.The pivotal districts of Pulwama and Shopian vote on 6 May, the fifth phase of the ongoing Lok Sabha elections and the final phase in Kashmir.So far, Kashmir has seen a feeble voter turnout. Across the first two phases, Srinagar recorded a 14.8% turnout, Anantnag 13.63% and Bijbehara a mere 2.04%, sending alarm bells ringing for Mufti.“Ever since Mufti sahab’s (Mufti Mohammad Saeed) death, his daughter, Mehbooba Mufti, has lost connect with the people of south Kashmir, even though she belongs to this region. But she alone is not to be blamed—no other leader makes an effort to reach out to the people. Bijbehara was just a case of people showing their ire,\" said a senior leader in Kashmir, who did not wish to be identified.Polling booths have been strategically set up across south Kashmir to check any terror incident or stone-pelting, but these booths have no visitors.\n",
      "==================================================\n"
     ]
    }
   ],
   "source": [
    "get_top_documents_for_each_topic(W, df['STORY'].tolist(), num_docs=5)"
   ]
  },
  {
   "cell_type": "markdown",
   "metadata": {
    "id": "Cjd_K8dpvQDy"
   },
   "source": [
    "We can find that there are some duplicate stories in topic 2. After removing those duplicates, I conduct topic modeling again."
   ]
  },
  {
   "cell_type": "code",
   "execution_count": 66,
   "metadata": {
    "id": "8RlFMiq5oN-9"
   },
   "outputs": [],
   "source": [
    "df['auto'] = df['STORY'].apply(lambda x: 1 if x == 'This story has been published from a wire agency feed without modifications to the text. Only the headline has been changed.' else 0)"
   ]
  },
  {
   "cell_type": "code",
   "execution_count": 67,
   "metadata": {
    "id": "srH0xt9BpR1A"
   },
   "outputs": [],
   "source": [
    "df_drop = df[df['auto'] != 1]"
   ]
  },
  {
   "cell_type": "code",
   "execution_count": 68,
   "metadata": {
    "colab": {
     "base_uri": "https://localhost:8080/"
    },
    "id": "4knELk3xpZ1S",
    "outputId": "fabeb406-a26d-4115-b879-33268d6a77fa"
   },
   "outputs": [
    {
     "name": "stderr",
     "output_type": "stream",
     "text": [
      "/usr/local/lib/python3.7/dist-packages/ipykernel_launcher.py:1: SettingWithCopyWarning: \n",
      "A value is trying to be set on a copy of a slice from a DataFrame.\n",
      "Try using .loc[row_indexer,col_indexer] = value instead\n",
      "\n",
      "See the caveats in the documentation: https://pandas.pydata.org/pandas-docs/stable/user_guide/indexing.html#returning-a-view-versus-a-copy\n",
      "  \"\"\"Entry point for launching an IPython kernel.\n",
      "100%|██████████| 7600/7600 [00:51<00:00, 147.38it/s]\n",
      "/usr/local/lib/python3.7/dist-packages/ipykernel_launcher.py:2: SettingWithCopyWarning: \n",
      "A value is trying to be set on a copy of a slice from a DataFrame.\n",
      "Try using .loc[row_indexer,col_indexer] = value instead\n",
      "\n",
      "See the caveats in the documentation: https://pandas.pydata.org/pandas-docs/stable/user_guide/indexing.html#returning-a-view-versus-a-copy\n",
      "  \n"
     ]
    }
   ],
   "source": [
    "df_drop['STORY'] = df_drop['STORY'].apply(lambda x: x.replace('This story has been published from a wire agency feed without modifications to the text. Only the headline has been changed.', ''))\n",
    "df_drop['STORY_lem'] = regex_lem(df_drop['STORY'].tolist())"
   ]
  },
  {
   "cell_type": "code",
   "execution_count": 69,
   "metadata": {
    "colab": {
     "base_uri": "https://localhost:8080/"
    },
    "id": "j_GPxglKpowN",
    "outputId": "56a8803d-1c4e-48ea-fc83-c27de5aeaaf5"
   },
   "outputs": [
    {
     "name": "stdout",
     "output_type": "stream",
     "text": [
      "TF-IDF: (7600, 48)\n",
      "   10 year  4gb ram  64gb internal  6gb ram  _bjp_ leader  \\\n",
      "0      0.0      0.0            0.0      0.0           0.0   \n",
      "1      0.0      0.0            0.0      0.0           0.0   \n",
      "2      0.0      0.0            0.0      0.0           0.0   \n",
      "3      0.0      0.0            0.0      0.0           0.0   \n",
      "4      0.0      0.0            0.0      0.0           0.0   \n",
      "\n",
      "   _lok_sabha_ election  _lok_sabha_ poll  _lok_sabha_ seat  \\\n",
      "0                   0.0               0.0               0.0   \n",
      "1                   0.0               0.0               0.0   \n",
      "2                   0.0               0.0               0.0   \n",
      "3                   0.0               0.0               0.0   \n",
      "4                   0.0               0.0               0.0   \n",
      "\n",
      "   artificial intelligence  assembly election  ...  samsung galaxy  \\\n",
      "0                      0.0                0.0  ...             0.0   \n",
      "1                      0.0                0.0  ...             0.0   \n",
      "2                      0.0                0.0  ...             0.0   \n",
      "3                      0.0                0.0  ...             0.0   \n",
      "4                      0.0                0.0  ...             0.0   \n",
      "\n",
      "   san francisco  say statement  smartphone maker  social medium  \\\n",
      "0            0.0            0.0               0.0            0.0   \n",
      "1            0.0            0.0               0.0            0.0   \n",
      "2            0.0            0.0               0.0            0.0   \n",
      "3            0.0            0.0               0.0            0.0   \n",
      "4            0.0            0.0               0.0            0.0   \n",
      "\n",
      "   union minister  uttar pradesh  vice president  west bengal  year ago  \n",
      "0             0.0            0.0             0.0          0.0       0.0  \n",
      "1             0.0            0.0             0.0          0.0       0.0  \n",
      "2             0.0            0.0             0.0          0.0       0.0  \n",
      "3             0.0            0.0             0.0          0.0       0.0  \n",
      "4             0.0            0.0             0.0          0.0       0.0  \n",
      "\n",
      "[5 rows x 48 columns]\n"
     ]
    },
    {
     "name": "stderr",
     "output_type": "stream",
     "text": [
      "/usr/local/lib/python3.7/dist-packages/sklearn/utils/deprecation.py:87: FutureWarning: Function get_feature_names is deprecated; get_feature_names is deprecated in 1.0 and will be removed in 1.2. Please use get_feature_names_out instead.\n",
      "  warnings.warn(msg, category=FutureWarning)\n"
     ]
    }
   ],
   "source": [
    "vectorizer = TfidfVectorizer(ngram_range=(2,2),\n",
    "                             min_df=0.01, max_df=0.4, stop_words=\"english\")\n",
    "\n",
    "X = vectorizer.fit_transform(df_drop['STORY_lem'])\n",
    "terms = vectorizer.get_feature_names()\n",
    "tf_idf = pd.DataFrame(X.toarray(), columns=terms)\n",
    "print(f\"TF-IDF: {tf_idf.shape}\")\n",
    "print(tf_idf.head(5))"
   ]
  },
  {
   "cell_type": "code",
   "execution_count": 70,
   "metadata": {
    "colab": {
     "base_uri": "https://localhost:8080/"
    },
    "id": "oWtxU5eQptzl",
    "outputId": "c4eedb44-ad9b-4ac6-a294-a4dca06f8cd3"
   },
   "outputs": [
    {
     "name": "stderr",
     "output_type": "stream",
     "text": [
      "/usr/local/lib/python3.7/dist-packages/sklearn/decomposition/_nmf.py:294: FutureWarning: The 'init' value, when 'init=None' and n_components is less than n_samples and n_features, will be changed from 'nndsvd' to 'nndsvda' in 1.1 (renaming of 0.26).\n",
      "  FutureWarning,\n"
     ]
    }
   ],
   "source": [
    "nmf = NMF(n_components=4)\n",
    "W = nmf.fit_transform(X)\n",
    "H = nmf.components_"
   ]
  },
  {
   "cell_type": "code",
   "execution_count": 71,
   "metadata": {
    "colab": {
     "base_uri": "https://localhost:8080/"
    },
    "id": "00sDudFGpyIO",
    "outputId": "2ec8745d-3da6-4fd7-8a3c-1b2fbfa1d110"
   },
   "outputs": [
    {
     "name": "stdout",
     "output_type": "stream",
     "text": [
      "TOPIC 0\n",
      "\n",
      "\bprime minister (41.1%)\n",
      "\n",
      "\bminister _narendra_modi_ (25.0%)\n",
      "\n",
      "\bgeneral election (3.7%)\n",
      "\n",
      "\belection commission (3.4%)\n",
      "\n",
      "\brahul gandhi (3.1%)\n",
      "\n",
      "==================================================\n",
      "TOPIC 1\n",
      "\n",
      "\bsocial medium (79.3%)\n",
      "\n",
      "\belection commission (3.0%)\n",
      "\n",
      "\bpolitical party (2.7%)\n",
      "\n",
      "\bgeneral election (2.5%)\n",
      "\n",
      "\bsan francisco (1.9%)\n",
      "\n",
      "==================================================\n",
      "TOPIC 2\n",
      "\n",
      "\b_lok_sabha_ election (20.1%)\n",
      "\n",
      "\bchief minister (15.7%)\n",
      "\n",
      "\b_lok_sabha_ seat (7.3%)\n",
      "\n",
      "\buttar pradesh (6.2%)\n",
      "\n",
      "\bgeneral election (5.5%)\n",
      "\n",
      "==================================================\n",
      "TOPIC 3\n",
      "\n",
      "\bmint india (26.0%)\n",
      "\n",
      "\bindia wire (26.0%)\n",
      "\n",
      "\byear ago (15.0%)\n",
      "\n",
      "\bavengers endgame (4.7%)\n",
      "\n",
      "\bartificial intelligence (3.4%)\n",
      "\n",
      "==================================================\n"
     ]
    }
   ],
   "source": [
    "get_top_tf_idf_tokens_for_topic(H, tf_idf.columns.tolist(), 5)"
   ]
  },
  {
   "cell_type": "code",
   "execution_count": 72,
   "metadata": {
    "colab": {
     "base_uri": "https://localhost:8080/"
    },
    "id": "xP6cSqzOp1iE",
    "outputId": "db0f5f77-9c32-4364-8f95-8f9e8a40e0ae"
   },
   "outputs": [
    {
     "name": "stdout",
     "output_type": "stream",
     "text": [
      "Topic 0\n",
      "100.0%\n",
      "A day after Akshay Kumar said he would be getting into an “unknown and uncharted territory” with something he had not done before, the Bollywood actor Tuesday said he will have a “candid and completely non political” chat with Prime Minister Narendra Modi on WednesdayThe 51-year-old star took to Twitter to announce that his conversation with the prime minister will be a “breather” in election time\n",
      "100.0%\n",
      "With the introduction of algorithmic ranking which prioritizes?‘engagement’, the?right Facebook comment at the right time is the new gateway to mass attention on the internet. (AFP)From Pakistani propaganda to countering politicians, comments on top Facebook pages are resetting the narrativeIn February, following a terrorist attack by Pakistan-based Jaish-e-Mohammed that killed 40 Indian paramilitary soldiers, and retaliatory air strikes by India on a terrorist training camp in Pakistan’s Balakot, the two nuclear-armed neighbours were on the brink of war.As tensions heightened at the border, netizens of the two nations were fighting another war on Facebook. Pakistani users flooded the comment section of some of India’s most followed media pages: they called out journalists (“Itz now officiaL, US says no indian fighter jet has capability to hit F-16. And here in india its media and iaf keeps spreading fake propaganda against PAF.\"); they challenged the claims made by Indian authorities (“BREAKING: Indian Jets dropped some massive tomatoes in Pakistan injuring 5 trees.\"); they heaped praise on their Prime Minister Imran Khan and ridiculed India’s Prime Minister Narendra Modi (“See the difference between the two national leaders An Oxford graduate And a tea seller.\").In volume terms, Indians outnumbered Pakistanis on these pages. But nationality is irrelevant for Facebook’s comment ranking algorithm: the counter-narrative offered by Pakistanis—“liked\" hundreds of times by their fellow countrymen—occupied the top position in the “most relevant\" comment display, Facebook’s ranking order where the “most engaging comments\" are shown first—often those “with the most likes and replies\".Some Indians were visibly uncomfortable: one issued a warning to not be swayed by their posts (“There are lot of Pakistani guys who are commenting on our news posts and misguiding us constantly.. be careful!\"); another wanted them to be blocked (“can you block these Pakistanis from commenting on this link My blood boils to see them commenting.\").But that’s not how the internet works. While news channels can decide whom they want to invite on their debates; newspaper journalists can choose the sources they interview; and politicians can do away with engagement altogether—such control is rarely visible on the comment section of Facebook. It is open to all.And what gets said matters because while a top comment on a popular page may garner 2,000 “likes\", the average interaction (like, angry, love and sad, etc.) on a Times of India post is only about 120. With the introduction of algorithmic ranking which prioritizes “engagement\", the right Facebook comment at the right time on the right page is the new gateway to mass attention on the internet.Mint reviewed the “most relevant\" comments on the 50 most commented posts shared over the last six months on 18 popular Indian Facebook pages (see graphic for the complete list). It includes the most followed mainstream media pages in English and Hindi, accounts of national and regional politicians, and partisan political pages.\n",
      "97.1%\n",
      "I believe in Ayurveda, says PM Modi\"I have led such a difficult life that I don't know how these expensive medicine workWhen Barack Obama was concerned about PM Modi's sleep cycle\"Even Obama, who is now a close friend of mine, asks me, 'Why do you sleep so less? This is your addiction to work but you should not sleep so lessPM Modi on the most valuable thing he brought from Gujarat\"When I became the Prime Minister, I had a benefit which none other Prime Minister had I was the longest serving Chief Minister of Gujarat and this had given me the immense experience to work for the betterment of the nation,\" says Prime Minister Narendra ModiPM Modi on the wish he would make if he had Alladin ka chirag\"Educationalists should stop telling the future generation about the 'Alladin ka chirag' and should teach them to work hard,\" says Prime Minister Narendra ModiPM Modi laughs out loudAkshay Kumar asks Narendra Modi if he is truly a Gujarati as Gujaratis are very particular about their money So I gave Rs 21 lakh for the education of the daughters of the peon and the driver of the secretariat,\" says Prime Minister Narendra Modi This may harm me in the elections but Mamata didi does select kurta for me and sends it to me once in a year\n",
      "100.0%\n",
      "Modi’s strong response to the Pulwama and Uri terrorist attacks may have high recall value for the Indian public when they elect the next governmentModi had spoken tough on terrorism emanating from Pakistan well before he assumed office on 26 May 2014, and subsequently tooNEW DELHI: Akey engagement of Prime Minister Narendra Modi on 25 February was dedicating the National War Memorial to the nation. Modi was at his fiery best, slamming the opposition for compromising national security through delayed acquisitions of military hardware and corrupt procurement procedures. There was nothing in his demeanour to suggest that India would in the space of less than 12 hours, in the early hours of 26 February, be using its Air Force to conduct an air strike inside Pakistani territory, something that last happened in the 1971 war with Pakistan. To his immediate and wider audience, Modi’s speech seemed typical of him, turning tables on his detractors who have accused him of helping big business win spin-off projects from defence deals.A person familiar with the events of 25 February said Modi returned to his official residence past 9pm. “We were later told that the prime minister did not go to sleep as he usually does by midnight but was awake well past that time,\" said the person mentioned above. “It was a little before 3am on Tuesday (26 February) that the prime minister was informed that our fighter aircraft had taken off for their mission,\" the person said.It was past 4am on 26 February morning when Mirage 2000 jets of the Indian Air Force returned to their base after bombing a terrorist training camp in Balakot in Pakistan’s Khyber Pakhtunkhwa province. The person quoted above said Modi spoke to one of the pilots who took part in the strike, as well as the Air Force officer in charge of the Gwalior base from where the fighter jets had taken off.It was decided that foreign secretary Vijay Gokhale would make an official announcement to convey to the country and to the international audience that India’s air strike was a “pre-emptive\" counter-terrorism operation in the face of “imminent\" danger of another possible terror attack and not a military one and that it came against the backdrop of a suicide attack on 14 February in Jammu and Kashmir’s Pulwama region in which 40 paramilitary soldiers were killed.\n",
      "100.0%\n",
      "Sinha has been vocal against the BJP and policies of Prime Minister Narendra Modi-led government over the past several months.“Veteran leaders of the BJP were kept in the 'Margdarshak Mandal', which never even held a meeting...sidelining of the people started from the top,\" Sinha said, accusing the BJP's current leadership of sidelining the old guard. “Our asset was treated with a negative attitude and we were being targeted...this is a one-man show and two-man army. Promises were made which were never fulfilled.\"\n",
      "==================================================\n",
      "Topic 1\n",
      "100.0%\n",
      "Using birthdays or names of family member, spouse or children is also not advised, since they can be easily inferred by scanning users’ social media postsDon't reuse the same password for all accounts because hackers can get access to all your accounts by cracking one passwordPasswords provide the first line of protection against cyber attacks for your smartphones, PCs, WiFi networks, social media accounts or payment platforms. However, just any password won’t protect you. According to a study, published in April, by Troy Hunt in collaboration with the National Cyber Security Centre of UK, there are 4.4 billion internet users and while the majority protect their accounts with passwords, they don't do well enough. Most passwords are made up of easily predictable sets of numbers or alphabets. For instance, 123456 was used 23 million times, while ‘password’ was used 3.6 million times.Security experts have often urged people to develop strong password habits. To emphasise the importance of it, the Registrar of National Day Calendar has nominated the first Thursday in the month of May every year as World Password Day.\n",
      "100.0%\n",
      "In phase 1 and phase 2 of the Lok Sabha Elections, many actors including Rajinikanth, Kamal Haasan, Ajith and Trisha among others were spotted at the polling booth They even shared photos of their inked fingers on social media to motivate their fans to cast their vote\n",
      "100.0%\n",
      "Facebook said the issue was discovered in January as part of a routine security review. Majority of the affected were users of Facebook Lite, a version of the social media app largely used by people in regions with lower connectivity.The social network is also probing the causes of a series of security failures, in which employees built applications that logged unencrypted password data for Facebook users, the report said.\n",
      "100.0%\n",
      "The ethics code which is prepared by the Internet and Mobile Association of India (IAMAI) in consultation with key social media platforms is one of its kind in India's electioneering history and recognises the growing influence of social media in any big election.\"The purpose of this voluntary Code is to identify the measures that Participants can put in place to increase confidence in the electoral process. This is to help safeguard the products and/ or services of the Participants against misuse to vitiate the free and fair character of the 2019 General Elections in India,\" read the three page code.\n",
      "100.0%\n",
      "Launched in India in 2018, TikTok has 120 million active users in India, particularly youngsters in small town and cities. (Reuters)New Delhi: With the Supreme Court refusing to stay the Madras High Court order early this month, to ban social media platform TikTok for encouraging pornography, the Ministry Of Electronics and Information Technology (Meity) has directed Google and Apple to remove the social media app from their respective app stores in a bid to prevent further downloads.Following the Madras High Court’s order, TikTok had reached out to Supreme Court for a stay on the order but the appeal was rejected on 15 April on grounds that the matter was subjudice.\n",
      "==================================================\n",
      "Topic 2\n",
      "100.0%\n",
      "Intelligence units are on high alert over the rising instances of encounters between militants and security forces following the suicide attack on a Central Reserve Police Force (CRPF) convoy in Pulwama on 14 February that killed 40 personnel of the force. However, this has not deterred the Congress-NC alliance, the PDP and the BJP from firming up their campaign plans to win as many of the six Lok Sabha seats from the state, albeit with an eye on the assembly elections.The Congress-NC alliance is working hard to increase its tally in the Kashmir valley. NC president and former chief minister Farooq Abdullah had lost to PDP’s Tariq Hameed Karra in Srinagar in the 2014 Lok Sabha elections, but had subsequently won the 2017 bypoll to the constituency defeating Nazir Ahmed Khan of the PDP.The PDP , which has only one member of Parliament (MP) in Muzaffar Hussain Baig who represents the Baramulla Lok Sabha constituency, may find little support on the ground. Its government fell in June 2018, following the BJP’s decision to walk out of the alliance between the two parties in the state. Former chief minister and PDP chief Mehbooba Mufti has, however, decided to contest from Anantnag, which has been vacant since she resigned in April 2016. The party is also readying to field a strong candidate to take on Abdullah in the pivotal Srinagar seat. The party has, however, agreed to stay away from the Udhampur constituency so that secular votes are not divided.The BJP, which had won the Ladakh, Udhampur and Jammu constituencies in the Jammu region in the 2014 Lok Sabha elections with a vote share of 23%, aims to make inroads into the valley. However, political analysts believe that it will be an uphill task for the saffron party to win as many seats this time.\n",
      "100.0%\n",
      "More than anything else, candidates, including former chief minister and Peoples Democratic Party (PDP) leader Mehbooba Mufti, have to contend with a reluctant electorate.The pivotal districts of Pulwama and Shopian vote on 6 May, the fifth phase of the ongoing Lok Sabha elections and the final phase in Kashmir.So far, Kashmir has seen a feeble voter turnout. Across the first two phases, Srinagar recorded a 14.8% turnout, Anantnag 13.63% and Bijbehara a mere 2.04%, sending alarm bells ringing for Mufti.“Ever since Mufti sahab’s (Mufti Mohammad Saeed) death, his daughter, Mehbooba Mufti, has lost connect with the people of south Kashmir, even though she belongs to this region. But she alone is not to be blamed—no other leader makes an effort to reach out to the people. Bijbehara was just a case of people showing their ire,\" said a senior leader in Kashmir, who did not wish to be identified.Polling booths have been strategically set up across south Kashmir to check any terror incident or stone-pelting, but these booths have no visitors.\n",
      "100.0%\n",
      "The Lok Sabha election results will add to their problems. Anything can happen after the polls. The coalition is itself not confident of continuing in power, and it is well known that they wanted to manage things only till the parliamentary elections. The statements made by chief minister H.D. Kumaraswamy that he works like a clerk and that he has no independence show the problems they have. Their problems, disgruntlement, mutual distrust will have an impact on parliament elections.The achievements of the Modi government, the failure of the coalition in Karnataka and our (BJP’s) hard work will all be beneficial to us. Though there is a drought, they (coalition) are doing nothing and only speak about the farm loan waiver. Modi government has given ?6,000 direct income transfer to farmers. Income tax relief has been given to the middle class with several concessions and a lot has been done for the labour community. These are the issues that people are talking about. The fact that there is no PM candidate from the opposition is also beneficial for us. Lakhs of youngsters, irrespective of caste and community, are supporting Modi.Nothing has been finalized yet and we will complete this process in a few weeks. We finished one round of discussions with (BJP chief) Amit Shah. Another one will take place soon as we are left with only seven weeks for the elections. We have identified candidates for all constituencies.After the elections, are you expecting any change in your own organization? Is there a succession plan in place?\n",
      "100.0%\n",
      "The key parties are the Congress and BJP. Sukh Ram, who has been in and out of the Congress, rejoined the party in March. The Communist Party of India (Marxist) has a small presence in the state.The most prominent candidate in the state is Anurag Singh Thakur, a young member of Parliament from the Hamirpur seat. Thakur, son of former chief minister Prem Kumar Dhumal, was also the president of the Board of Control for Cricket in India. State legislators Kishan Kapoor and Suresh Kashyap, who have a lot of influence in their respective regions, are also contesting the Lok Sabha elections. The Congress has fielded Aashray Sharma in Mandi to take on current BJP member of Parliament Ram Swaroop Sharma.\n",
      "100.0%\n",
      "This time all anti-national forces have threatened the people against coming out and voting, says Nirmal SinghThe BJP believes very strongly that Article 370 has been responsible for a lot of Kashmir’s problems, says NirmalNEW DELHI: As Kashmir prepares to vote in the fifth phase of the Lok Sabha elections, the former speaker of the dissolved Jammu and Kashmir legislative assembly and former deputy chief minister Nirmal Singh of the Bharatiya Janata Party (BJP) speaks about the issues before the electorate. Edited excerpts from an interview:Voter turnout has been very low both in Srinagar and Anantnag, at 13%. Do you think it will play spoiler for the BJP’s chances in the state?\n",
      "==================================================\n",
      "Topic 3\n",
      "99.7%\n",
      "Home-grown smartphone brands like Micromax and Intex once cornered 54% of market share. That is down to less than 10% todaymint-india-wire long-reads xiaomi smartphonesoppo smartphonessmartphonesmicromax mobile phonesintex phonelava smartphonesLavaVivo smartphonesTranssionSamsungnokiasmartphoneschinachinese smartphonesFour years ago, Micromax’s office in Gurugram was at par with the likes of Google. The multi-storeyed building had open spaces, rooms aplenty, and even balconies and terraces where parties could be thrown.Today, the company operates out of a single floor in a common office complex in Gurugram. The once-swanky office now has only a few cabins, far fewer employees, and is quite cramped. Incidentally, in 2014, Counterpoint Research put Micromax at the helm of the booming Indian smartphone market. It even surpassed Samsung, and shipped more phones than any other brand in India. In fact, home-grown smartphone brands such as Micromax, Lava, and Intex once cornered nearly 54% of the market share. The same brands have a less than 10% market share today. What really happened?A look back at the last few years shows home-grown smartphone brands losing their dominance to a gradual Chinese onslaught. Today, the top player in India is Xiaomi, accounting for 29.7% of all smartphone shipments (IDC data). The company—which introduced itself with competitively priced devices—has slowly built its base in the country over the past five years, and is now reaping the benefits.In fact, according to data from IDC, four of the top five smartphone brands in India are from China—Xiaomi, Vivo, Oppo and Transsion hold the 1st, 3rd, 4th and 5th positions, respectively. Samsung, which ousted Nokia from the Indian market, remains at number two, but is feeling the heat as well.Meanwhile, Intex (which did not offer comment for this story) and Micromax have both been selling consumer appliances. Micromax says it sells nearly a million TVs every year, while Intex’s website proudly declares itself to be the number one Indian LED TV brand. Intex has also dabbled with air-conditioners and speakers.Chinese brands have always offered low prices, and they continue to do so. However, the market has also changed. Now, the low pricing of devices has become the bar that others have to compete against.In one of its launch events in China some months ago, Lei Jun, CEO of Xiaomi, had said that if his company makes more than 5% net profit from its hardware business, it would aim to pass that benefit on to its customers.According to an industry source closely involved with smartphone sales, Oppo and Vivo sell phones in India at a margin of about 12%. These two companies have traditionally sold phones at higher prices than Xiaomi, since they plied their trade in an offline-centric model in India.In the offline space, companies incur higher overheads, which raise the overall cost of the device, and hence, the final price too. According to a distributor who requested anonymity, when Oppo and Vivo started dominating the offline segment, they were paying lots of money to retailers and distributors to keep their brands visible. Yet, that wouldn’t reflect on the prices of the actual products. “They would even pay for redecorating a retailer’s store,\" the source said.\n",
      "99.7%\n",
      "AI algorithms keep a track of your activity and usage and keep apps from running in the background to reduce power consumption and keeping your RAM from getting full so that it can quickly run apps whenever required.Voice assistants, however, made the presence of more prominent this year. Be it Google Assistant, Apple’s Siri or Amazon’s Alexa, virtual assistants became considerably smarter this year. They can now do things that would’ve left you gaping merely five years ago—from making quick calculations and ordering groceries online to executing incredibly complex commands like booking hotel reservations for you.Software experience also changed in 2018. When Apple announced the gesture-based navigation for the iPhone X last year, Google was stuck with its primitive three button navigation. Custom UIs based on Android quickly caught on with this by providing their own rendition of gesture-based navigation. The latest version of Android (Pie) finally made it official on stock Android.But that wasn’t the only thing that changed. Several security and privacy features were added to the new version along with Digital Wellness, which is aimed at reducing the amount of time people spend on their smartphones.While all of these trends are based on the majority of the smartphones that came out this year, there were certainly a few outliers like the Razer Phone 2 with a metal back, LED accent lights and a 120Hz display. Huawei’s Mate 20 Pro comes with wireless reverse charging technology which lets you charge another Qi charging compliant smartphone through its back. We also saw a satellite smartphone, the X5-Touch, from a UAE based company called Thuraya.2018 saw the little slab of metal, glass and semiconductor transform into something that’s not just functional, but aesthetically pleasing. It’s probably the second step into the future. And given that technologies like foldable displays and 5G are in their nascent stages, we can definitely expect an exciting new year.mint-india-wire smartphonessmartphones in 2018best smartphones in 2018iphone xsiphone xs maxoneplus 6thuawei mate 20 prosamsung galaxy note 9Realme 2 proOppo R17 ProVivo V11 Proin display finger print scannerfacial unlockingAndroid PieAndroid OreoGesture navigation5Gfoldable displays\n",
      "99.7%\n",
      "mint-india-wire smart homeDevicessmartphonelightsswitchesplay musicsmart cameraAmazon Echo PlustechnologyNew Delhi: Until even a couple of years ago, setting up a smart home was limited to a few light bulbs and controlling them with a smartphone. Now, users can regulate the temperature of the AC with voice, get the lights to switch on/off as someone enters and leaves the room or keep an eye on home remotely.Although the smart home ecosystem is not as mature as those in the West, the home automation market in India is growing and likely to cross ? 30,000 crore by 2022, according to a Research and Markets report.Devices under ? 50,000 : A basic one with the option to control lights, switches, play music and secure the household with a smart camera can cost less than ? 50,000. Users can control these IoT devices with their smartphone or smart speakers, such as Amazon’s Echo Plus (starts at ? 11,999) and Google Home ( ? 8,999).\n",
      "99.7%\n",
      "mint-india-wire health startupscloud clinicsAI and health careStasis LabsDinesh SeemakurtyMichael Maylahnmfinepatientsremote patient monitoring systemhigh quality health carePatient safetyMachine learningPatient CareNew Delhi: We profile two Bengaluru-based start-ups that are using AI to provide high quality health care by connecting consumers with doctors.Stasis Labs was founded by Dinesh Seemakurty and Michael Maylahn in Los Angeles three years ago. The idea was to make healthcare accessible, affordable and universal in India. Stasis builds cloud-connected vitals monitoring solutions for patients who require close monitoring. The reasoning: A skewed nurse-patient ratio, as is the case in India, can be detrimental to patient safety and result in poor clinical outcomes.\n",
      "100.0%\n",
      "Extra layer of security: Subscribing to a reliable antivirus and virtual private network (VPN) solution for a phone can add an extra layer of security to all work-related communications and minimize the risk of malware/ransomware attacks or snooping by hackers. For instance, an app called Safe, which is free for Android users, assigns a security score (between 0 and 5) of the phone and tells you what you need to do on your phone to take your score up. “With apps such as Safe, users can carry out real-time security assessment of their device,\" says Saket Modi, CEO and co-founder of Lucideus, a Delhi-based security company.mint-india-wire work phonespersonal phoneswork phone personal phone separatecombining work and personal phonepros and cons of using personal phone for workgmail work profiletwo whatsapp numbers on one phone\n",
      "==================================================\n"
     ]
    }
   ],
   "source": [
    "get_top_documents_for_each_topic(W, df_drop['STORY'].tolist(), num_docs=5)"
   ]
  },
  {
   "cell_type": "markdown",
   "metadata": {
    "id": "9briUk0awCiN"
   },
   "source": [
    "We can conclude that topic 0 and 2 are political stories. Topic 1 also covers politics but it focuses more on how politics issue are spread on social media. Topic 3 contains the technology articles with a major theme in mobile. In order to make topic modeling more accurate, I conduct tf-idf for each section and see if there is any other potential regex target."
   ]
  },
  {
   "cell_type": "code",
   "execution_count": 73,
   "metadata": {
    "id": "0AQgGFxZOj0z"
   },
   "outputs": [],
   "source": [
    "def get_tfidf_vec(review):\n",
    "    '''Intake a list of review and return tf-idf report'''\n",
    "    vectorizer = TfidfVectorizer(ngram_range=(2,2),\n",
    "                             token_pattern=r'\\b[a-zA-Z\\_]{3,}\\b',\n",
    "                             max_df=0.4, stop_words=stopword_list, max_features=1000, binary=True)\n",
    "    X = vectorizer.fit_transform(review)\n",
    "    terms = vectorizer.get_feature_names()\n",
    "    tf_idf = pd.DataFrame(X.toarray().transpose(), index=terms)\n",
    "    tf_idf = tf_idf.sum(axis=1)\n",
    "    score = pd.DataFrame(tf_idf, columns=[\"score\"])\n",
    "    score.sort_values(by=\"score\", ascending=False, inplace=True)\n",
    "    return score"
   ]
  },
  {
   "cell_type": "code",
   "execution_count": 74,
   "metadata": {
    "colab": {
     "base_uri": "https://localhost:8080/",
     "height": 732
    },
    "id": "Hp4H89yEVL5Q",
    "outputId": "65bd7069-c808-427d-9ffb-f40af05cf675"
   },
   "outputs": [
    {
     "name": "stderr",
     "output_type": "stream",
     "text": [
      "/usr/local/lib/python3.7/dist-packages/sklearn/utils/deprecation.py:87: FutureWarning: Function get_feature_names is deprecated; get_feature_names is deprecated in 1.0 and will be removed in 1.2. Please use get_feature_names_out instead.\n",
      "  warnings.warn(msg, category=FutureWarning)\n"
     ]
    },
    {
     "data": {
      "text/html": [
       "\n",
       "  <div id=\"df-06328187-ae99-4e79-a9cd-c004fda080d6\">\n",
       "    <div class=\"colab-df-container\">\n",
       "      <div>\n",
       "<style scoped>\n",
       "    .dataframe tbody tr th:only-of-type {\n",
       "        vertical-align: middle;\n",
       "    }\n",
       "\n",
       "    .dataframe tbody tr th {\n",
       "        vertical-align: top;\n",
       "    }\n",
       "\n",
       "    .dataframe thead th {\n",
       "        text-align: right;\n",
       "    }\n",
       "</style>\n",
       "<table border=\"1\" class=\"dataframe\">\n",
       "  <thead>\n",
       "    <tr style=\"text-align: right;\">\n",
       "      <th></th>\n",
       "      <th>score</th>\n",
       "    </tr>\n",
       "  </thead>\n",
       "  <tbody>\n",
       "    <tr>\n",
       "      <th>prime minister</th>\n",
       "      <td>46.512292</td>\n",
       "    </tr>\n",
       "    <tr>\n",
       "      <th>_lok_sabha_ election</th>\n",
       "      <td>41.148672</td>\n",
       "    </tr>\n",
       "    <tr>\n",
       "      <th>chief minister</th>\n",
       "      <td>40.789811</td>\n",
       "    </tr>\n",
       "    <tr>\n",
       "      <th>election commission</th>\n",
       "      <td>34.221876</td>\n",
       "    </tr>\n",
       "    <tr>\n",
       "      <th>minister _narendra_modi_</th>\n",
       "      <td>33.875670</td>\n",
       "    </tr>\n",
       "    <tr>\n",
       "      <th>rahul gandhi</th>\n",
       "      <td>33.318242</td>\n",
       "    </tr>\n",
       "    <tr>\n",
       "      <th>general election</th>\n",
       "      <td>30.254986</td>\n",
       "    </tr>\n",
       "    <tr>\n",
       "      <th>_lok_sabha_ seat</th>\n",
       "      <td>29.097551</td>\n",
       "    </tr>\n",
       "    <tr>\n",
       "      <th>uttar pradesh</th>\n",
       "      <td>28.884866</td>\n",
       "    </tr>\n",
       "    <tr>\n",
       "      <th>political party</th>\n",
       "      <td>27.515219</td>\n",
       "    </tr>\n",
       "    <tr>\n",
       "      <th>congress president</th>\n",
       "      <td>24.910941</td>\n",
       "    </tr>\n",
       "    <tr>\n",
       "      <th>social medium</th>\n",
       "      <td>24.116003</td>\n",
       "    </tr>\n",
       "    <tr>\n",
       "      <th>last year</th>\n",
       "      <td>23.155981</td>\n",
       "    </tr>\n",
       "    <tr>\n",
       "      <th>_lok_sabha_ poll</th>\n",
       "      <td>22.279541</td>\n",
       "    </tr>\n",
       "    <tr>\n",
       "      <th>west bengal</th>\n",
       "      <td>22.025283</td>\n",
       "    </tr>\n",
       "    <tr>\n",
       "      <th>assembly election</th>\n",
       "      <td>21.724751</td>\n",
       "    </tr>\n",
       "    <tr>\n",
       "      <th>congress party</th>\n",
       "      <td>21.440269</td>\n",
       "    </tr>\n",
       "    <tr>\n",
       "      <th>president rahul</th>\n",
       "      <td>21.242790</td>\n",
       "    </tr>\n",
       "    <tr>\n",
       "      <th>_bjp_ leader</th>\n",
       "      <td>19.795267</td>\n",
       "    </tr>\n",
       "    <tr>\n",
       "      <th>win seat</th>\n",
       "      <td>19.510886</td>\n",
       "    </tr>\n",
       "  </tbody>\n",
       "</table>\n",
       "</div>\n",
       "      <button class=\"colab-df-convert\" onclick=\"convertToInteractive('df-06328187-ae99-4e79-a9cd-c004fda080d6')\"\n",
       "              title=\"Convert this dataframe to an interactive table.\"\n",
       "              style=\"display:none;\">\n",
       "        \n",
       "  <svg xmlns=\"http://www.w3.org/2000/svg\" height=\"24px\"viewBox=\"0 0 24 24\"\n",
       "       width=\"24px\">\n",
       "    <path d=\"M0 0h24v24H0V0z\" fill=\"none\"/>\n",
       "    <path d=\"M18.56 5.44l.94 2.06.94-2.06 2.06-.94-2.06-.94-.94-2.06-.94 2.06-2.06.94zm-11 1L8.5 8.5l.94-2.06 2.06-.94-2.06-.94L8.5 2.5l-.94 2.06-2.06.94zm10 10l.94 2.06.94-2.06 2.06-.94-2.06-.94-.94-2.06-.94 2.06-2.06.94z\"/><path d=\"M17.41 7.96l-1.37-1.37c-.4-.4-.92-.59-1.43-.59-.52 0-1.04.2-1.43.59L10.3 9.45l-7.72 7.72c-.78.78-.78 2.05 0 2.83L4 21.41c.39.39.9.59 1.41.59.51 0 1.02-.2 1.41-.59l7.78-7.78 2.81-2.81c.8-.78.8-2.07 0-2.86zM5.41 20L4 18.59l7.72-7.72 1.47 1.35L5.41 20z\"/>\n",
       "  </svg>\n",
       "      </button>\n",
       "      \n",
       "  <style>\n",
       "    .colab-df-container {\n",
       "      display:flex;\n",
       "      flex-wrap:wrap;\n",
       "      gap: 12px;\n",
       "    }\n",
       "\n",
       "    .colab-df-convert {\n",
       "      background-color: #E8F0FE;\n",
       "      border: none;\n",
       "      border-radius: 50%;\n",
       "      cursor: pointer;\n",
       "      display: none;\n",
       "      fill: #1967D2;\n",
       "      height: 32px;\n",
       "      padding: 0 0 0 0;\n",
       "      width: 32px;\n",
       "    }\n",
       "\n",
       "    .colab-df-convert:hover {\n",
       "      background-color: #E2EBFA;\n",
       "      box-shadow: 0px 1px 2px rgba(60, 64, 67, 0.3), 0px 1px 3px 1px rgba(60, 64, 67, 0.15);\n",
       "      fill: #174EA6;\n",
       "    }\n",
       "\n",
       "    [theme=dark] .colab-df-convert {\n",
       "      background-color: #3B4455;\n",
       "      fill: #D2E3FC;\n",
       "    }\n",
       "\n",
       "    [theme=dark] .colab-df-convert:hover {\n",
       "      background-color: #434B5C;\n",
       "      box-shadow: 0px 1px 3px 1px rgba(0, 0, 0, 0.15);\n",
       "      filter: drop-shadow(0px 1px 2px rgba(0, 0, 0, 0.3));\n",
       "      fill: #FFFFFF;\n",
       "    }\n",
       "  </style>\n",
       "\n",
       "      <script>\n",
       "        const buttonEl =\n",
       "          document.querySelector('#df-06328187-ae99-4e79-a9cd-c004fda080d6 button.colab-df-convert');\n",
       "        buttonEl.style.display =\n",
       "          google.colab.kernel.accessAllowed ? 'block' : 'none';\n",
       "\n",
       "        async function convertToInteractive(key) {\n",
       "          const element = document.querySelector('#df-06328187-ae99-4e79-a9cd-c004fda080d6');\n",
       "          const dataTable =\n",
       "            await google.colab.kernel.invokeFunction('convertToInteractive',\n",
       "                                                     [key], {});\n",
       "          if (!dataTable) return;\n",
       "\n",
       "          const docLinkHtml = 'Like what you see? Visit the ' +\n",
       "            '<a target=\"_blank\" href=https://colab.research.google.com/notebooks/data_table.ipynb>data table notebook</a>'\n",
       "            + ' to learn more about interactive tables.';\n",
       "          element.innerHTML = '';\n",
       "          dataTable['output_type'] = 'display_data';\n",
       "          await google.colab.output.renderOutput(dataTable, element);\n",
       "          const docLink = document.createElement('div');\n",
       "          docLink.innerHTML = docLinkHtml;\n",
       "          element.appendChild(docLink);\n",
       "        }\n",
       "      </script>\n",
       "    </div>\n",
       "  </div>\n",
       "  "
      ],
      "text/plain": [
       "                              score\n",
       "prime minister            46.512292\n",
       "_lok_sabha_ election      41.148672\n",
       "chief minister            40.789811\n",
       "election commission       34.221876\n",
       "minister _narendra_modi_  33.875670\n",
       "rahul gandhi              33.318242\n",
       "general election          30.254986\n",
       "_lok_sabha_ seat          29.097551\n",
       "uttar pradesh             28.884866\n",
       "political party           27.515219\n",
       "congress president        24.910941\n",
       "social medium             24.116003\n",
       "last year                 23.155981\n",
       "_lok_sabha_ poll          22.279541\n",
       "west bengal               22.025283\n",
       "assembly election         21.724751\n",
       "congress party            21.440269\n",
       "president rahul           21.242790\n",
       "_bjp_ leader              19.795267\n",
       "win seat                  19.510886"
      ]
     },
     "execution_count": 74,
     "metadata": {},
     "output_type": "execute_result"
    }
   ],
   "source": [
    "score_0 = get_tfidf_vec(df_drop[df_drop['SECTION'] == 0]['STORY_lem'])\n",
    "score_0[:20]"
   ]
  },
  {
   "cell_type": "code",
   "execution_count": 75,
   "metadata": {
    "colab": {
     "base_uri": "https://localhost:8080/",
     "height": 732
    },
    "id": "YlJbWnK6VTZz",
    "outputId": "0f8e7988-3dc9-448d-f832-9a52f49a784a"
   },
   "outputs": [
    {
     "name": "stderr",
     "output_type": "stream",
     "text": [
      "/usr/local/lib/python3.7/dist-packages/sklearn/utils/deprecation.py:87: FutureWarning: Function get_feature_names is deprecated; get_feature_names is deprecated in 1.0 and will be removed in 1.2. Please use get_feature_names_out instead.\n",
      "  warnings.warn(msg, category=FutureWarning)\n"
     ]
    },
    {
     "data": {
      "text/html": [
       "\n",
       "  <div id=\"df-e793fa88-ff1b-44d6-89cc-fe9084ce92ae\">\n",
       "    <div class=\"colab-df-container\">\n",
       "      <div>\n",
       "<style scoped>\n",
       "    .dataframe tbody tr th:only-of-type {\n",
       "        vertical-align: middle;\n",
       "    }\n",
       "\n",
       "    .dataframe tbody tr th {\n",
       "        vertical-align: top;\n",
       "    }\n",
       "\n",
       "    .dataframe thead th {\n",
       "        text-align: right;\n",
       "    }\n",
       "</style>\n",
       "<table border=\"1\" class=\"dataframe\">\n",
       "  <thead>\n",
       "    <tr style=\"text-align: right;\">\n",
       "      <th></th>\n",
       "      <th>score</th>\n",
       "    </tr>\n",
       "  </thead>\n",
       "  <tbody>\n",
       "    <tr>\n",
       "      <th>last year</th>\n",
       "      <td>49.159751</td>\n",
       "    </tr>\n",
       "    <tr>\n",
       "      <th>india wire</th>\n",
       "      <td>43.444441</td>\n",
       "    </tr>\n",
       "    <tr>\n",
       "      <th>mint india</th>\n",
       "      <td>43.444441</td>\n",
       "    </tr>\n",
       "    <tr>\n",
       "      <th>social medium</th>\n",
       "      <td>31.632665</td>\n",
       "    </tr>\n",
       "    <tr>\n",
       "      <th>artificial intelligence</th>\n",
       "      <td>29.819619</td>\n",
       "    </tr>\n",
       "    <tr>\n",
       "      <th>internal storage</th>\n",
       "      <td>29.804953</td>\n",
       "    </tr>\n",
       "    <tr>\n",
       "      <th>ram internal</th>\n",
       "      <td>28.360456</td>\n",
       "    </tr>\n",
       "    <tr>\n",
       "      <th>redmi note</th>\n",
       "      <td>27.215732</td>\n",
       "    </tr>\n",
       "    <tr>\n",
       "      <th>san francisco</th>\n",
       "      <td>26.170051</td>\n",
       "    </tr>\n",
       "    <tr>\n",
       "      <th>allow user</th>\n",
       "      <td>25.044794</td>\n",
       "    </tr>\n",
       "    <tr>\n",
       "      <th>smartphone maker</th>\n",
       "      <td>23.281230</td>\n",
       "    </tr>\n",
       "    <tr>\n",
       "      <th>vice president</th>\n",
       "      <td>20.777007</td>\n",
       "    </tr>\n",
       "    <tr>\n",
       "      <th>new feature</th>\n",
       "      <td>20.114665</td>\n",
       "    </tr>\n",
       "    <tr>\n",
       "      <th>apple inc</th>\n",
       "      <td>20.055717</td>\n",
       "    </tr>\n",
       "    <tr>\n",
       "      <th>note pro</th>\n",
       "      <td>19.944115</td>\n",
       "    </tr>\n",
       "    <tr>\n",
       "      <th>samsung galaxy</th>\n",
       "      <td>19.917335</td>\n",
       "    </tr>\n",
       "    <tr>\n",
       "      <th>qualcomm snapdragon</th>\n",
       "      <td>19.036293</td>\n",
       "    </tr>\n",
       "    <tr>\n",
       "      <th>company say</th>\n",
       "      <td>18.598898</td>\n",
       "    </tr>\n",
       "    <tr>\n",
       "      <th>say statement</th>\n",
       "      <td>18.565180</td>\n",
       "    </tr>\n",
       "    <tr>\n",
       "      <th>new york</th>\n",
       "      <td>17.892003</td>\n",
       "    </tr>\n",
       "  </tbody>\n",
       "</table>\n",
       "</div>\n",
       "      <button class=\"colab-df-convert\" onclick=\"convertToInteractive('df-e793fa88-ff1b-44d6-89cc-fe9084ce92ae')\"\n",
       "              title=\"Convert this dataframe to an interactive table.\"\n",
       "              style=\"display:none;\">\n",
       "        \n",
       "  <svg xmlns=\"http://www.w3.org/2000/svg\" height=\"24px\"viewBox=\"0 0 24 24\"\n",
       "       width=\"24px\">\n",
       "    <path d=\"M0 0h24v24H0V0z\" fill=\"none\"/>\n",
       "    <path d=\"M18.56 5.44l.94 2.06.94-2.06 2.06-.94-2.06-.94-.94-2.06-.94 2.06-2.06.94zm-11 1L8.5 8.5l.94-2.06 2.06-.94-2.06-.94L8.5 2.5l-.94 2.06-2.06.94zm10 10l.94 2.06.94-2.06 2.06-.94-2.06-.94-.94-2.06-.94 2.06-2.06.94z\"/><path d=\"M17.41 7.96l-1.37-1.37c-.4-.4-.92-.59-1.43-.59-.52 0-1.04.2-1.43.59L10.3 9.45l-7.72 7.72c-.78.78-.78 2.05 0 2.83L4 21.41c.39.39.9.59 1.41.59.51 0 1.02-.2 1.41-.59l7.78-7.78 2.81-2.81c.8-.78.8-2.07 0-2.86zM5.41 20L4 18.59l7.72-7.72 1.47 1.35L5.41 20z\"/>\n",
       "  </svg>\n",
       "      </button>\n",
       "      \n",
       "  <style>\n",
       "    .colab-df-container {\n",
       "      display:flex;\n",
       "      flex-wrap:wrap;\n",
       "      gap: 12px;\n",
       "    }\n",
       "\n",
       "    .colab-df-convert {\n",
       "      background-color: #E8F0FE;\n",
       "      border: none;\n",
       "      border-radius: 50%;\n",
       "      cursor: pointer;\n",
       "      display: none;\n",
       "      fill: #1967D2;\n",
       "      height: 32px;\n",
       "      padding: 0 0 0 0;\n",
       "      width: 32px;\n",
       "    }\n",
       "\n",
       "    .colab-df-convert:hover {\n",
       "      background-color: #E2EBFA;\n",
       "      box-shadow: 0px 1px 2px rgba(60, 64, 67, 0.3), 0px 1px 3px 1px rgba(60, 64, 67, 0.15);\n",
       "      fill: #174EA6;\n",
       "    }\n",
       "\n",
       "    [theme=dark] .colab-df-convert {\n",
       "      background-color: #3B4455;\n",
       "      fill: #D2E3FC;\n",
       "    }\n",
       "\n",
       "    [theme=dark] .colab-df-convert:hover {\n",
       "      background-color: #434B5C;\n",
       "      box-shadow: 0px 1px 3px 1px rgba(0, 0, 0, 0.15);\n",
       "      filter: drop-shadow(0px 1px 2px rgba(0, 0, 0, 0.3));\n",
       "      fill: #FFFFFF;\n",
       "    }\n",
       "  </style>\n",
       "\n",
       "      <script>\n",
       "        const buttonEl =\n",
       "          document.querySelector('#df-e793fa88-ff1b-44d6-89cc-fe9084ce92ae button.colab-df-convert');\n",
       "        buttonEl.style.display =\n",
       "          google.colab.kernel.accessAllowed ? 'block' : 'none';\n",
       "\n",
       "        async function convertToInteractive(key) {\n",
       "          const element = document.querySelector('#df-e793fa88-ff1b-44d6-89cc-fe9084ce92ae');\n",
       "          const dataTable =\n",
       "            await google.colab.kernel.invokeFunction('convertToInteractive',\n",
       "                                                     [key], {});\n",
       "          if (!dataTable) return;\n",
       "\n",
       "          const docLinkHtml = 'Like what you see? Visit the ' +\n",
       "            '<a target=\"_blank\" href=https://colab.research.google.com/notebooks/data_table.ipynb>data table notebook</a>'\n",
       "            + ' to learn more about interactive tables.';\n",
       "          element.innerHTML = '';\n",
       "          dataTable['output_type'] = 'display_data';\n",
       "          await google.colab.output.renderOutput(dataTable, element);\n",
       "          const docLink = document.createElement('div');\n",
       "          docLink.innerHTML = docLinkHtml;\n",
       "          element.appendChild(docLink);\n",
       "        }\n",
       "      </script>\n",
       "    </div>\n",
       "  </div>\n",
       "  "
      ],
      "text/plain": [
       "                             score\n",
       "last year                49.159751\n",
       "india wire               43.444441\n",
       "mint india               43.444441\n",
       "social medium            31.632665\n",
       "artificial intelligence  29.819619\n",
       "internal storage         29.804953\n",
       "ram internal             28.360456\n",
       "redmi note               27.215732\n",
       "san francisco            26.170051\n",
       "allow user               25.044794\n",
       "smartphone maker         23.281230\n",
       "vice president           20.777007\n",
       "new feature              20.114665\n",
       "apple inc                20.055717\n",
       "note pro                 19.944115\n",
       "samsung galaxy           19.917335\n",
       "qualcomm snapdragon      19.036293\n",
       "company say              18.598898\n",
       "say statement            18.565180\n",
       "new york                 17.892003"
      ]
     },
     "execution_count": 75,
     "metadata": {},
     "output_type": "execute_result"
    }
   ],
   "source": [
    "score_1 = get_tfidf_vec(df_drop[df_drop['SECTION'] == 1]['STORY_lem'])\n",
    "score_1[:20]"
   ]
  },
  {
   "cell_type": "code",
   "execution_count": 76,
   "metadata": {
    "colab": {
     "base_uri": "https://localhost:8080/",
     "height": 732
    },
    "id": "bYtL5lvyVfcc",
    "outputId": "7dea0f7c-381c-42b2-8d67-6af7a51537e6"
   },
   "outputs": [
    {
     "name": "stderr",
     "output_type": "stream",
     "text": [
      "/usr/local/lib/python3.7/dist-packages/sklearn/utils/deprecation.py:87: FutureWarning: Function get_feature_names is deprecated; get_feature_names is deprecated in 1.0 and will be removed in 1.2. Please use get_feature_names_out instead.\n",
      "  warnings.warn(msg, category=FutureWarning)\n"
     ]
    },
    {
     "data": {
      "text/html": [
       "\n",
       "  <div id=\"df-6f17ca3f-5de2-4010-885a-8440d8bbd9d8\">\n",
       "    <div class=\"colab-df-container\">\n",
       "      <div>\n",
       "<style scoped>\n",
       "    .dataframe tbody tr th:only-of-type {\n",
       "        vertical-align: middle;\n",
       "    }\n",
       "\n",
       "    .dataframe tbody tr th {\n",
       "        vertical-align: top;\n",
       "    }\n",
       "\n",
       "    .dataframe thead th {\n",
       "        text-align: right;\n",
       "    }\n",
       "</style>\n",
       "<table border=\"1\" class=\"dataframe\">\n",
       "  <thead>\n",
       "    <tr style=\"text-align: right;\">\n",
       "      <th></th>\n",
       "      <th>score</th>\n",
       "    </tr>\n",
       "  </thead>\n",
       "  <tbody>\n",
       "    <tr>\n",
       "      <th>avengers endgame</th>\n",
       "      <td>26.527163</td>\n",
       "    </tr>\n",
       "    <tr>\n",
       "      <th>social medium</th>\n",
       "      <td>21.761279</td>\n",
       "    </tr>\n",
       "    <tr>\n",
       "      <th>box office</th>\n",
       "      <td>19.513814</td>\n",
       "    </tr>\n",
       "    <tr>\n",
       "      <th>game thrones</th>\n",
       "      <td>18.164186</td>\n",
       "    </tr>\n",
       "    <tr>\n",
       "      <th>actor say</th>\n",
       "      <td>17.965101</td>\n",
       "    </tr>\n",
       "    <tr>\n",
       "      <th>_year_old_ actor</th>\n",
       "      <td>17.947849</td>\n",
       "    </tr>\n",
       "    <tr>\n",
       "      <th>among others</th>\n",
       "      <td>15.638794</td>\n",
       "    </tr>\n",
       "    <tr>\n",
       "      <th>last year</th>\n",
       "      <td>14.732983</td>\n",
       "    </tr>\n",
       "    <tr>\n",
       "      <th>also star</th>\n",
       "      <td>14.676381</td>\n",
       "    </tr>\n",
       "    <tr>\n",
       "      <th>captain america</th>\n",
       "      <td>12.942677</td>\n",
       "    </tr>\n",
       "    <tr>\n",
       "      <th>also read</th>\n",
       "      <td>12.574834</td>\n",
       "    </tr>\n",
       "    <tr>\n",
       "      <th>say statement</th>\n",
       "      <td>12.477640</td>\n",
       "    </tr>\n",
       "    <tr>\n",
       "      <th>cinematic universe</th>\n",
       "      <td>11.967956</td>\n",
       "    </tr>\n",
       "    <tr>\n",
       "      <th>infinity war</th>\n",
       "      <td>11.830852</td>\n",
       "    </tr>\n",
       "    <tr>\n",
       "      <th>marvel cinematic</th>\n",
       "      <td>11.776454</td>\n",
       "    </tr>\n",
       "    <tr>\n",
       "      <th>film like</th>\n",
       "      <td>11.724464</td>\n",
       "    </tr>\n",
       "    <tr>\n",
       "      <th>year ago</th>\n",
       "      <td>10.630966</td>\n",
       "    </tr>\n",
       "    <tr>\n",
       "      <th>new york</th>\n",
       "      <td>10.569077</td>\n",
       "    </tr>\n",
       "    <tr>\n",
       "      <th>iron man</th>\n",
       "      <td>9.727999</td>\n",
       "    </tr>\n",
       "    <tr>\n",
       "      <th>film also</th>\n",
       "      <td>9.471756</td>\n",
       "    </tr>\n",
       "  </tbody>\n",
       "</table>\n",
       "</div>\n",
       "      <button class=\"colab-df-convert\" onclick=\"convertToInteractive('df-6f17ca3f-5de2-4010-885a-8440d8bbd9d8')\"\n",
       "              title=\"Convert this dataframe to an interactive table.\"\n",
       "              style=\"display:none;\">\n",
       "        \n",
       "  <svg xmlns=\"http://www.w3.org/2000/svg\" height=\"24px\"viewBox=\"0 0 24 24\"\n",
       "       width=\"24px\">\n",
       "    <path d=\"M0 0h24v24H0V0z\" fill=\"none\"/>\n",
       "    <path d=\"M18.56 5.44l.94 2.06.94-2.06 2.06-.94-2.06-.94-.94-2.06-.94 2.06-2.06.94zm-11 1L8.5 8.5l.94-2.06 2.06-.94-2.06-.94L8.5 2.5l-.94 2.06-2.06.94zm10 10l.94 2.06.94-2.06 2.06-.94-2.06-.94-.94-2.06-.94 2.06-2.06.94z\"/><path d=\"M17.41 7.96l-1.37-1.37c-.4-.4-.92-.59-1.43-.59-.52 0-1.04.2-1.43.59L10.3 9.45l-7.72 7.72c-.78.78-.78 2.05 0 2.83L4 21.41c.39.39.9.59 1.41.59.51 0 1.02-.2 1.41-.59l7.78-7.78 2.81-2.81c.8-.78.8-2.07 0-2.86zM5.41 20L4 18.59l7.72-7.72 1.47 1.35L5.41 20z\"/>\n",
       "  </svg>\n",
       "      </button>\n",
       "      \n",
       "  <style>\n",
       "    .colab-df-container {\n",
       "      display:flex;\n",
       "      flex-wrap:wrap;\n",
       "      gap: 12px;\n",
       "    }\n",
       "\n",
       "    .colab-df-convert {\n",
       "      background-color: #E8F0FE;\n",
       "      border: none;\n",
       "      border-radius: 50%;\n",
       "      cursor: pointer;\n",
       "      display: none;\n",
       "      fill: #1967D2;\n",
       "      height: 32px;\n",
       "      padding: 0 0 0 0;\n",
       "      width: 32px;\n",
       "    }\n",
       "\n",
       "    .colab-df-convert:hover {\n",
       "      background-color: #E2EBFA;\n",
       "      box-shadow: 0px 1px 2px rgba(60, 64, 67, 0.3), 0px 1px 3px 1px rgba(60, 64, 67, 0.15);\n",
       "      fill: #174EA6;\n",
       "    }\n",
       "\n",
       "    [theme=dark] .colab-df-convert {\n",
       "      background-color: #3B4455;\n",
       "      fill: #D2E3FC;\n",
       "    }\n",
       "\n",
       "    [theme=dark] .colab-df-convert:hover {\n",
       "      background-color: #434B5C;\n",
       "      box-shadow: 0px 1px 3px 1px rgba(0, 0, 0, 0.15);\n",
       "      filter: drop-shadow(0px 1px 2px rgba(0, 0, 0, 0.3));\n",
       "      fill: #FFFFFF;\n",
       "    }\n",
       "  </style>\n",
       "\n",
       "      <script>\n",
       "        const buttonEl =\n",
       "          document.querySelector('#df-6f17ca3f-5de2-4010-885a-8440d8bbd9d8 button.colab-df-convert');\n",
       "        buttonEl.style.display =\n",
       "          google.colab.kernel.accessAllowed ? 'block' : 'none';\n",
       "\n",
       "        async function convertToInteractive(key) {\n",
       "          const element = document.querySelector('#df-6f17ca3f-5de2-4010-885a-8440d8bbd9d8');\n",
       "          const dataTable =\n",
       "            await google.colab.kernel.invokeFunction('convertToInteractive',\n",
       "                                                     [key], {});\n",
       "          if (!dataTable) return;\n",
       "\n",
       "          const docLinkHtml = 'Like what you see? Visit the ' +\n",
       "            '<a target=\"_blank\" href=https://colab.research.google.com/notebooks/data_table.ipynb>data table notebook</a>'\n",
       "            + ' to learn more about interactive tables.';\n",
       "          element.innerHTML = '';\n",
       "          dataTable['output_type'] = 'display_data';\n",
       "          await google.colab.output.renderOutput(dataTable, element);\n",
       "          const docLink = document.createElement('div');\n",
       "          docLink.innerHTML = docLinkHtml;\n",
       "          element.appendChild(docLink);\n",
       "        }\n",
       "      </script>\n",
       "    </div>\n",
       "  </div>\n",
       "  "
      ],
      "text/plain": [
       "                        score\n",
       "avengers endgame    26.527163\n",
       "social medium       21.761279\n",
       "box office          19.513814\n",
       "game thrones        18.164186\n",
       "actor say           17.965101\n",
       "_year_old_ actor    17.947849\n",
       "among others        15.638794\n",
       "last year           14.732983\n",
       "also star           14.676381\n",
       "captain america     12.942677\n",
       "also read           12.574834\n",
       "say statement       12.477640\n",
       "cinematic universe  11.967956\n",
       "infinity war        11.830852\n",
       "marvel cinematic    11.776454\n",
       "film like           11.724464\n",
       "year ago            10.630966\n",
       "new york            10.569077\n",
       "iron man             9.727999\n",
       "film also            9.471756"
      ]
     },
     "execution_count": 76,
     "metadata": {},
     "output_type": "execute_result"
    }
   ],
   "source": [
    "score_2 = get_tfidf_vec(df_drop[df_drop['SECTION'] == 2]['STORY_lem'])\n",
    "score_2[:20]"
   ]
  },
  {
   "cell_type": "code",
   "execution_count": 77,
   "metadata": {
    "colab": {
     "base_uri": "https://localhost:8080/",
     "height": 732
    },
    "id": "IjnWGlZTVl8Y",
    "outputId": "0a8365cd-f8fe-4486-eff8-2f6ff7941ed9"
   },
   "outputs": [
    {
     "name": "stderr",
     "output_type": "stream",
     "text": [
      "/usr/local/lib/python3.7/dist-packages/sklearn/utils/deprecation.py:87: FutureWarning: Function get_feature_names is deprecated; get_feature_names is deprecated in 1.0 and will be removed in 1.2. Please use get_feature_names_out instead.\n",
      "  warnings.warn(msg, category=FutureWarning)\n"
     ]
    },
    {
     "data": {
      "text/html": [
       "\n",
       "  <div id=\"df-c41b157d-28bd-4835-bf70-d32d506c1ac7\">\n",
       "    <div class=\"colab-df-container\">\n",
       "      <div>\n",
       "<style scoped>\n",
       "    .dataframe tbody tr th:only-of-type {\n",
       "        vertical-align: middle;\n",
       "    }\n",
       "\n",
       "    .dataframe tbody tr th {\n",
       "        vertical-align: top;\n",
       "    }\n",
       "\n",
       "    .dataframe thead th {\n",
       "        text-align: right;\n",
       "    }\n",
       "</style>\n",
       "<table border=\"1\" class=\"dataframe\">\n",
       "  <thead>\n",
       "    <tr style=\"text-align: right;\">\n",
       "      <th></th>\n",
       "      <th>score</th>\n",
       "    </tr>\n",
       "  </thead>\n",
       "  <tbody>\n",
       "    <tr>\n",
       "      <th>last year</th>\n",
       "      <td>19.886421</td>\n",
       "    </tr>\n",
       "    <tr>\n",
       "      <th>central bank</th>\n",
       "      <td>19.050397</td>\n",
       "    </tr>\n",
       "    <tr>\n",
       "      <th>oil price</th>\n",
       "      <td>17.598257</td>\n",
       "    </tr>\n",
       "    <tr>\n",
       "      <th>stock exchange</th>\n",
       "      <td>15.593762</td>\n",
       "    </tr>\n",
       "    <tr>\n",
       "      <th>previous close</th>\n",
       "      <td>14.387509</td>\n",
       "    </tr>\n",
       "    <tr>\n",
       "      <th>year ago</th>\n",
       "      <td>13.856856</td>\n",
       "    </tr>\n",
       "    <tr>\n",
       "      <th>say note</th>\n",
       "      <td>13.518915</td>\n",
       "    </tr>\n",
       "    <tr>\n",
       "      <th>march quarter</th>\n",
       "      <td>13.223575</td>\n",
       "    </tr>\n",
       "    <tr>\n",
       "      <th>interest rate</th>\n",
       "      <td>12.905770</td>\n",
       "    </tr>\n",
       "    <tr>\n",
       "      <th>bond yield</th>\n",
       "      <td>12.342851</td>\n",
       "    </tr>\n",
       "    <tr>\n",
       "      <th>basis point</th>\n",
       "      <td>12.270528</td>\n",
       "    </tr>\n",
       "    <tr>\n",
       "      <th>last month</th>\n",
       "      <td>11.889842</td>\n",
       "    </tr>\n",
       "    <tr>\n",
       "      <th>federal reserve</th>\n",
       "      <td>11.840356</td>\n",
       "    </tr>\n",
       "    <tr>\n",
       "      <th>currency trade</th>\n",
       "      <td>11.812403</td>\n",
       "    </tr>\n",
       "    <tr>\n",
       "      <th>fiscal year</th>\n",
       "      <td>11.689208</td>\n",
       "    </tr>\n",
       "    <tr>\n",
       "      <th>last week</th>\n",
       "      <td>11.367465</td>\n",
       "    </tr>\n",
       "    <tr>\n",
       "      <th>foreign investor</th>\n",
       "      <td>11.202252</td>\n",
       "    </tr>\n",
       "    <tr>\n",
       "      <th>crude oil</th>\n",
       "      <td>11.028688</td>\n",
       "    </tr>\n",
       "    <tr>\n",
       "      <th>far year</th>\n",
       "      <td>10.963064</td>\n",
       "    </tr>\n",
       "    <tr>\n",
       "      <th>per cent</th>\n",
       "      <td>10.653437</td>\n",
       "    </tr>\n",
       "  </tbody>\n",
       "</table>\n",
       "</div>\n",
       "      <button class=\"colab-df-convert\" onclick=\"convertToInteractive('df-c41b157d-28bd-4835-bf70-d32d506c1ac7')\"\n",
       "              title=\"Convert this dataframe to an interactive table.\"\n",
       "              style=\"display:none;\">\n",
       "        \n",
       "  <svg xmlns=\"http://www.w3.org/2000/svg\" height=\"24px\"viewBox=\"0 0 24 24\"\n",
       "       width=\"24px\">\n",
       "    <path d=\"M0 0h24v24H0V0z\" fill=\"none\"/>\n",
       "    <path d=\"M18.56 5.44l.94 2.06.94-2.06 2.06-.94-2.06-.94-.94-2.06-.94 2.06-2.06.94zm-11 1L8.5 8.5l.94-2.06 2.06-.94-2.06-.94L8.5 2.5l-.94 2.06-2.06.94zm10 10l.94 2.06.94-2.06 2.06-.94-2.06-.94-.94-2.06-.94 2.06-2.06.94z\"/><path d=\"M17.41 7.96l-1.37-1.37c-.4-.4-.92-.59-1.43-.59-.52 0-1.04.2-1.43.59L10.3 9.45l-7.72 7.72c-.78.78-.78 2.05 0 2.83L4 21.41c.39.39.9.59 1.41.59.51 0 1.02-.2 1.41-.59l7.78-7.78 2.81-2.81c.8-.78.8-2.07 0-2.86zM5.41 20L4 18.59l7.72-7.72 1.47 1.35L5.41 20z\"/>\n",
       "  </svg>\n",
       "      </button>\n",
       "      \n",
       "  <style>\n",
       "    .colab-df-container {\n",
       "      display:flex;\n",
       "      flex-wrap:wrap;\n",
       "      gap: 12px;\n",
       "    }\n",
       "\n",
       "    .colab-df-convert {\n",
       "      background-color: #E8F0FE;\n",
       "      border: none;\n",
       "      border-radius: 50%;\n",
       "      cursor: pointer;\n",
       "      display: none;\n",
       "      fill: #1967D2;\n",
       "      height: 32px;\n",
       "      padding: 0 0 0 0;\n",
       "      width: 32px;\n",
       "    }\n",
       "\n",
       "    .colab-df-convert:hover {\n",
       "      background-color: #E2EBFA;\n",
       "      box-shadow: 0px 1px 2px rgba(60, 64, 67, 0.3), 0px 1px 3px 1px rgba(60, 64, 67, 0.15);\n",
       "      fill: #174EA6;\n",
       "    }\n",
       "\n",
       "    [theme=dark] .colab-df-convert {\n",
       "      background-color: #3B4455;\n",
       "      fill: #D2E3FC;\n",
       "    }\n",
       "\n",
       "    [theme=dark] .colab-df-convert:hover {\n",
       "      background-color: #434B5C;\n",
       "      box-shadow: 0px 1px 3px 1px rgba(0, 0, 0, 0.15);\n",
       "      filter: drop-shadow(0px 1px 2px rgba(0, 0, 0, 0.3));\n",
       "      fill: #FFFFFF;\n",
       "    }\n",
       "  </style>\n",
       "\n",
       "      <script>\n",
       "        const buttonEl =\n",
       "          document.querySelector('#df-c41b157d-28bd-4835-bf70-d32d506c1ac7 button.colab-df-convert');\n",
       "        buttonEl.style.display =\n",
       "          google.colab.kernel.accessAllowed ? 'block' : 'none';\n",
       "\n",
       "        async function convertToInteractive(key) {\n",
       "          const element = document.querySelector('#df-c41b157d-28bd-4835-bf70-d32d506c1ac7');\n",
       "          const dataTable =\n",
       "            await google.colab.kernel.invokeFunction('convertToInteractive',\n",
       "                                                     [key], {});\n",
       "          if (!dataTable) return;\n",
       "\n",
       "          const docLinkHtml = 'Like what you see? Visit the ' +\n",
       "            '<a target=\"_blank\" href=https://colab.research.google.com/notebooks/data_table.ipynb>data table notebook</a>'\n",
       "            + ' to learn more about interactive tables.';\n",
       "          element.innerHTML = '';\n",
       "          dataTable['output_type'] = 'display_data';\n",
       "          await google.colab.output.renderOutput(dataTable, element);\n",
       "          const docLink = document.createElement('div');\n",
       "          docLink.innerHTML = docLinkHtml;\n",
       "          element.appendChild(docLink);\n",
       "        }\n",
       "      </script>\n",
       "    </div>\n",
       "  </div>\n",
       "  "
      ],
      "text/plain": [
       "                      score\n",
       "last year         19.886421\n",
       "central bank      19.050397\n",
       "oil price         17.598257\n",
       "stock exchange    15.593762\n",
       "previous close    14.387509\n",
       "year ago          13.856856\n",
       "say note          13.518915\n",
       "march quarter     13.223575\n",
       "interest rate     12.905770\n",
       "bond yield        12.342851\n",
       "basis point       12.270528\n",
       "last month        11.889842\n",
       "federal reserve   11.840356\n",
       "currency trade    11.812403\n",
       "fiscal year       11.689208\n",
       "last week         11.367465\n",
       "foreign investor  11.202252\n",
       "crude oil         11.028688\n",
       "far year          10.963064\n",
       "per cent          10.653437"
      ]
     },
     "execution_count": 77,
     "metadata": {},
     "output_type": "execute_result"
    }
   ],
   "source": [
    "score_3 = get_tfidf_vec(df_drop[df_drop['SECTION'] == 3]['STORY_lem'])\n",
    "score_3[:20]"
   ]
  },
  {
   "cell_type": "code",
   "execution_count": 78,
   "metadata": {
    "id": "N39ht1-3VpRK"
   },
   "outputs": [],
   "source": [
    "def regex_advance(line):\n",
    "    '''Regex cleaning'''\n",
    "    line = re.sub(r'\\bprime minister\\b', '_prime_minister_', line)\n",
    "    line = re.sub(r'\\bchief minister\\b', '_chief_minister_', line)\n",
    "    line = re.sub(r'\\brahul gandhi\\b', '_rahul_gandhi_', line)\n",
    "    line = re.sub(r'\\buttar pradesh\\b', '_uttar_pradesh_', line)\n",
    "    line = re.sub(r'\\bmint\\-india\\-wire\\b', '_mint_india_', line)\n",
    "    line = re.sub(r'\\bredmi note\\b', '_redmi_note_', line)\n",
    "    line = re.sub(r'\\bsamsung galaxy\\b', '_samsung_galaxy_', line)\n",
    "    line = re.sub(r'\\bavengers?(endgame)?\\b', '_avengers_', line)\n",
    "    line = re.sub(r'\\bbox office\\b', '_box_office_', line)\n",
    "    line = re.sub(r'\\bgame of thrones\\b', '_game_of_thrones_', line)\n",
    "    line = re.sub(r'\\binfinity war\\b', '_infinity_war_', line)\n",
    "    line = re.sub(r'\\bcaptain america\\b', '_captain_america_', line)\n",
    "    line = re.sub(r'\\binterest rate\\b', '_interest_rate_', line)\n",
    "    line = re.sub(r'\\bfiscal year\\b', '_fiscal_year_', line)\n",
    "    return line"
   ]
  },
  {
   "cell_type": "code",
   "execution_count": 79,
   "metadata": {
    "colab": {
     "base_uri": "https://localhost:8080/"
    },
    "id": "qshHz7OkXiw6",
    "outputId": "657c92b6-c5fd-4adb-e4a2-8e46f0b79a14"
   },
   "outputs": [
    {
     "name": "stderr",
     "output_type": "stream",
     "text": [
      "/usr/local/lib/python3.7/dist-packages/ipykernel_launcher.py:1: SettingWithCopyWarning: \n",
      "A value is trying to be set on a copy of a slice from a DataFrame.\n",
      "Try using .loc[row_indexer,col_indexer] = value instead\n",
      "\n",
      "See the caveats in the documentation: https://pandas.pydata.org/pandas-docs/stable/user_guide/indexing.html#returning-a-view-versus-a-copy\n",
      "  \"\"\"Entry point for launching an IPython kernel.\n"
     ]
    }
   ],
   "source": [
    "df_drop['STORY_lem'] = df_drop['STORY_lem'].apply(lambda x: regex_advance(x))"
   ]
  },
  {
   "cell_type": "code",
   "execution_count": 80,
   "metadata": {
    "colab": {
     "base_uri": "https://localhost:8080/"
    },
    "id": "J9DXPNqhXpCF",
    "outputId": "07ea111a-ceab-4464-9a49-0a9ed27b7670"
   },
   "outputs": [
    {
     "name": "stdout",
     "output_type": "stream",
     "text": [
      "TF-IDF: (7600, 39)\n",
      "   10 year  4gb ram  64gb internal  6gb ram  _avengers_ endgame  _bjp_ leader  \\\n",
      "0      0.0      0.0            0.0      0.0                 0.0           0.0   \n",
      "1      0.0      0.0            0.0      0.0                 0.0           0.0   \n",
      "2      0.0      0.0            0.0      0.0                 0.0           0.0   \n",
      "3      0.0      0.0            0.0      0.0                 0.0           0.0   \n",
      "4      0.0      0.0            0.0      0.0                 0.0           0.0   \n",
      "\n",
      "   _lok_sabha_ election  _lok_sabha_ poll  _lok_sabha_ seat  \\\n",
      "0                   0.0               0.0               0.0   \n",
      "1                   0.0               0.0               0.0   \n",
      "2                   0.0               0.0               0.0   \n",
      "3                   0.0               0.0               0.0   \n",
      "4                   0.0               0.0               0.0   \n",
      "\n",
      "   _prime_minister_ _narendra_modi_  ...  qualcomm snapdragon  ram 64gb  \\\n",
      "0                               0.0  ...                  0.0       0.0   \n",
      "1                               0.0  ...                  0.0       0.0   \n",
      "2                               0.0  ...                  0.0       0.0   \n",
      "3                               0.0  ...                  0.0       0.0   \n",
      "4                               0.0  ...                  0.0       0.0   \n",
      "\n",
      "   san francisco  say statement  smartphone maker  social medium  \\\n",
      "0            0.0            0.0               0.0            0.0   \n",
      "1            0.0            0.0               0.0            0.0   \n",
      "2            0.0            0.0               0.0            0.0   \n",
      "3            0.0            0.0               0.0            0.0   \n",
      "4            0.0            0.0               0.0            0.0   \n",
      "\n",
      "   union minister  vice president  west bengal  year ago  \n",
      "0             0.0             0.0          0.0       0.0  \n",
      "1             0.0             0.0          0.0       0.0  \n",
      "2             0.0             0.0          0.0       0.0  \n",
      "3             0.0             0.0          0.0       0.0  \n",
      "4             0.0             0.0          0.0       0.0  \n",
      "\n",
      "[5 rows x 39 columns]\n"
     ]
    },
    {
     "name": "stderr",
     "output_type": "stream",
     "text": [
      "/usr/local/lib/python3.7/dist-packages/sklearn/utils/deprecation.py:87: FutureWarning: Function get_feature_names is deprecated; get_feature_names is deprecated in 1.0 and will be removed in 1.2. Please use get_feature_names_out instead.\n",
      "  warnings.warn(msg, category=FutureWarning)\n"
     ]
    }
   ],
   "source": [
    "vectorizer = TfidfVectorizer(ngram_range=(2,2),\n",
    "                             min_df=0.01, max_df=0.4, stop_words=\"english\")\n",
    "\n",
    "X = vectorizer.fit_transform(df_drop['STORY_lem'])\n",
    "terms = vectorizer.get_feature_names()\n",
    "tf_idf = pd.DataFrame(X.toarray(), columns=terms)\n",
    "print(f\"TF-IDF: {tf_idf.shape}\")\n",
    "print(tf_idf.head(5))"
   ]
  },
  {
   "cell_type": "code",
   "execution_count": 81,
   "metadata": {
    "colab": {
     "base_uri": "https://localhost:8080/"
    },
    "id": "Kg4y5hRLak33",
    "outputId": "bbe82b25-daff-42fc-d67f-e4e410181dcd"
   },
   "outputs": [
    {
     "name": "stderr",
     "output_type": "stream",
     "text": [
      "/usr/local/lib/python3.7/dist-packages/sklearn/decomposition/_nmf.py:294: FutureWarning: The 'init' value, when 'init=None' and n_components is less than n_samples and n_features, will be changed from 'nndsvd' to 'nndsvda' in 1.1 (renaming of 0.26).\n",
      "  FutureWarning,\n"
     ]
    }
   ],
   "source": [
    "nmf = NMF(n_components=4)\n",
    "W = nmf.fit_transform(X)\n",
    "H = nmf.components_"
   ]
  },
  {
   "cell_type": "code",
   "execution_count": 82,
   "metadata": {
    "colab": {
     "base_uri": "https://localhost:8080/"
    },
    "id": "Q6a-oBdVao59",
    "outputId": "7ffdb639-05eb-4045-a993-6fd54fdd3e7b"
   },
   "outputs": [
    {
     "name": "stdout",
     "output_type": "stream",
     "text": [
      "TOPIC 0\n",
      "\n",
      "\bsocial medium (83.1%)\n",
      "\n",
      "\belection commission (2.7%)\n",
      "\n",
      "\bpolitical party (2.6%)\n",
      "\n",
      "\bsan francisco (2.1%)\n",
      "\n",
      "\b_avengers_ endgame (1.5%)\n",
      "\n",
      "\bartificial intelligence (1.3%)\n",
      "\n",
      "\bsay statement (1.2%)\n",
      "\n",
      "\bnew york (0.8%)\n",
      "\n",
      "\bjanata party (0.8%)\n",
      "\n",
      "\bcongress party (0.8%)\n",
      "\n",
      "==================================================\n",
      "TOPIC 1\n",
      "\n",
      "\b_lok_sabha_ election (69.3%)\n",
      "\n",
      "\bassembly election (7.1%)\n",
      "\n",
      "\belection commission (4.5%)\n",
      "\n",
      "\bjanata dal (3.0%)\n",
      "\n",
      "\bwest bengal (2.3%)\n",
      "\n",
      "\bpolitical party (2.2%)\n",
      "\n",
      "\bcongress president (2.0%)\n",
      "\n",
      "\b_lok_sabha_ poll (1.7%)\n",
      "\n",
      "\bpresident _rahul_gandhi_ (1.5%)\n",
      "\n",
      "\bunion minister (1.3%)\n",
      "\n",
      "==================================================\n",
      "TOPIC 2\n",
      "\n",
      "\b_prime_minister_ _narendra_modi_ (20.3%)\n",
      "\n",
      "\bgeneral election (17.0%)\n",
      "\n",
      "\b_lok_sabha_ seat (8.8%)\n",
      "\n",
      "\belection commission (5.8%)\n",
      "\n",
      "\bcongress president (4.1%)\n",
      "\n",
      "\bcongress party (4.0%)\n",
      "\n",
      "\bassembly election (3.9%)\n",
      "\n",
      "\b_lok_sabha_ poll (3.7%)\n",
      "\n",
      "\bwest bengal (3.5%)\n",
      "\n",
      "\bpresident _rahul_gandhi_ (3.4%)\n",
      "\n",
      "==================================================\n",
      "TOPIC 3\n",
      "\n",
      "\byear ago (66.7%)\n",
      "\n",
      "\b_avengers_ endgame (16.1%)\n",
      "\n",
      "\bcompany say (2.9%)\n",
      "\n",
      "\bcentral bank (2.0%)\n",
      "\n",
      "\bvice president (1.7%)\n",
      "\n",
      "\bnew york (1.7%)\n",
      "\n",
      "\bsan francisco (1.5%)\n",
      "\n",
      "\b10 year (1.3%)\n",
      "\n",
      "\bsmartphone maker (1.2%)\n",
      "\n",
      "\bsay statement (0.8%)\n",
      "\n",
      "==================================================\n"
     ]
    }
   ],
   "source": [
    "get_top_tf_idf_tokens_for_topic(H, tf_idf.columns.tolist(), 10)"
   ]
  },
  {
   "cell_type": "code",
   "execution_count": 83,
   "metadata": {
    "colab": {
     "base_uri": "https://localhost:8080/"
    },
    "id": "vU8qY4T4ar64",
    "outputId": "ff5371f0-df0d-4aa7-c105-1e137b8076f6"
   },
   "outputs": [
    {
     "name": "stdout",
     "output_type": "stream",
     "text": [
      "Topic 0\n",
      "100.0%\n",
      "outdoor advertising continue to remain a crucial medium for party to connect with voter , despite the grow popularity of digital and social medium platform . “ outdoor have specific nuance , which be physical and locational in nature . it can not be switch off , skip or block . it be this physical presence that make it the most transparent of medium , '' say sujit banerjee , director and chief executive of ecosys , a specialist outdoor agency under publicis media . outdoor ad be expect to feature political leader with contextual conversation and a display of their achievement .\n",
      "100.0%\n",
      "actors like sivakarthikeyan , radhikaa sarathkumar and others take to social medium to wish actor ajith on his 48th birthday while sivakarthikeyan tweet , “ happy birthday to our dear thala ajith sir ? ? ? ? ? ? ” , veteran actor radhikaa sarathkumar , who collaborate with ajith in pavithra and amarkalam , post her wish on twitter and ask him to continue his good work he write , “ wishing a very happy bday to our beloved ‘ thala ’ ajith sir ! ” mohanlal wish ajith a very happy birthday he post a photo and write , “ happy birthday ajith kumar # happybirthdaythala ” arun vijay write , “ always inspire by ur never ever give up attitude ! ? ? wish you a very happy birthday # ajith sir ! may god bless you with good health & happiness forever\n",
      "100.0%\n",
      "xiaomi sub-brand redmi 's ceo lu weibing on wednesday confirm that they be work on a new device run qualcomm 's flagship chipset , the snapdragon 855 . lu , in a post on chinese social medium platform weibo , mention about a `` redmi 855 '' with `` strong performance , long battery life , good camera , high screen ratio , redmi 855 , worth wait for ... ''\n",
      "100.0%\n",
      "under pressure from britain 's competition and markets authority , 16 british celebrity , include rita ora and rosie huntington-whiteley , have pledge to clearly label sponsored post as advertisement . this could ultimately prove a boon to the social medium giant . facebook receive a straightforward fee for each classic ad on its platform , which also include whatsapp and messenger . it also keep a 30 % cut of ad display alongside news story in its instant articles . but when the like of ellie goulding showoff a new pair of sneaker , bottled water or wannabe hot new widget in a picture or post , the tech giant do n't receive a penny . the transaction be between the brand and the celebrity , who can do very well by this — huntington-whiteley can charge as much as $ 11,500 a post , accord to influencer consultancy hopper .\n",
      "100.0%\n",
      "now fix by facebook , the vulnerability in the web version of messenger allow any website to expose who you have be message , reveal ron masas , a researcher with cybersecurity company imperva , in a blog post late on thursday . the researcher report the vulnerability to facebook under their responsible disclosure programme and the social medium platform mitigate the issue .\n",
      "==================================================\n",
      "Topic 1\n",
      "100.0%\n",
      "the failure of the state government and its inability to amicably resolve seat adjustment will be a positive for us . even though their top leadership might take some decision , worker will not be able to accept it on ground . the other positive be the programme give to the country and state by modi . i do not see any negative for us . we will benefit if there be a direct fight , and even in place where they have a coalition , because their worker will never join hand . with 104 seat , we be in opposition and with 37 seat they [ jd  s  ] be in power . this be unprecedented—101 % this will have an impact on the election . there be a lot for us to gain here . we have lose out in place like ramanagaram , mysuru , mandya and chamarajanagar , among other place . but there be a lot of infighting among their worker in these region , and it will be beneficial to us , and give us an opportunity to win a few more seat here . do you foresee any change after the _lok_sabha_ election ? will this government survive beyond the poll ?\n",
      "100.0%\n",
      "this time all anti-national force have threaten the people against come out and voting , say nirmal singh the _bjp_ believe very strongly that article 370 have be responsible for a lot of kashmir ’ s problem , say nirmal _new_delhi_ : as kashmir prepare to vote in the fifth phase of the _lok_sabha_ election , the former speaker of the dissolved jammu and kashmir legislative assembly and former deputy _chief_minister_ nirmal singh of the _bjp_  speak about the issue before the electorate . edited excerpt from an interview : voter turnout have be very low both in srinagar and anantnag , at 13 % . do you think it will play spoiler for the _bjp_ ’ s chance in the state ?\n",
      "100.0%\n",
      "_new_delhi_ : delhi ’ s national capital status and innate capacity to indicate the nation ’ s mood make its _lok_sabha_ election a high-profile event . mint decode the political web of the state where the _bjp_  , congress and aam aadmi party  aap  will fight for dominance . delhi be arguably india ’ s most cosmopolitan city . it be not define by any caste or community . it use to be a “ very punjabi '' city in the 1980s , but migration from bihar and _uttar_pradesh_ ever since have bring some balance . being the national capital , a large number of bureaucrat and government and public sector employee reside in delhi . the private sector thrives , too . most of the young or middle-aged service-class people live in the eastern or southern part or the border area in _uttar_pradesh_ and haryana . delhi also have a large community of trader , a key votebank of the _bjp_ .\n",
      "100.0%\n",
      "“ about 125 crore indians be question 125 promise make by modi in 2014 . today , neither amit shah , rajnath singh , sushma swaraj , arun jaitley nor _narendra_modi_ speak about employment at all . in their speech today , _bjp_ neither speak about demonetization nor gst  good and service tax  , '' say congress ’ chief spokesperson randeep singh surjewala . responding to the congress ’ charge , defence minister nirmala sitharaman tell reporter : “ the speed with which congress have react on the manifesto  it  be very clear that they have not go through even one of the 75  goal of manifesto  . congress should spend some time , read the manifesto , then talk . '' the _lok_sabha_ election manifesto of the incumbent _bjp_ also draw fire from other key opposition party , particularly regional party . their criticism be largely around how the ruling party have fail to fulfil its commitment in the last five year whereas it should have first focus on those issue . “ the _bjp_ ’ s late set of announcement be another round of jumlas . it be the same in 2014 , and people have see through their pr and spin . the time to vote out this government be now , '' say communist party of india  marxist  general secretary sitaram yechury . in a sharp attack , bahujan samaj party chief mayawati say that _bjp_ have “ no moral right '' to release the manifesto and should have instead come up with an action-taken report . “ the _bjp_ and the _narendra_modi_ government , which blatantly betray the people and fail to fulfil the election promise , have no moral right to release a new manifesto . people can not believe them and they should tender an apology to the people as they have only work for the capitalist , '' she say in lucknow .\n",
      "100.0%\n",
      "kamal haasankamal haasan launch his own party makkal needhi maiam  mnm  in 2018 but he will not be contest the _lok_sabha_ election isha koppikarisha koppikar recently join bhartiya janta party and take the post of president of the _bjp_ ’ s woman transport wing nusrat jahanbengali actor nusrat jahan recently join trinamool congress and this be announce by mamata banerjee\n",
      "==================================================\n",
      "Topic 2\n",
      "100.0%\n",
      "soon after come to power in 2014 , the _bjp_ leadership under _prime_minister_ _narendra_modi_ and party president amit shah decide that senior leader age 75 year , or more , will not hold any public office . now , the party have go a step far to replace l.k . advani , 91 , the former deputy _prime_minister_ and _bjp_ president , in gandhinagar , besides ask another former party president and the member of parliament  mp  from kanpur , murli manohar joshi , not to contest the general election . similarly , former minister kalraj mishra , who be an mp from the deoria constituency in _uttar_pradesh_ , have also be deny a ticket this time .\n",
      "100.0%\n",
      "modi 's roadshow will begin from benaras hindu university and will criscross large part of the city before reach the bank of ganga _prime_minister_ _narendra_modi_ will hold a roadshow in varanasi on thursday before he file his nomination paper from the holy city in the ongoing 2019 general election .\n",
      "100.0%\n",
      "traditional business be increasingly worry about the impact of online retailer . “ online shopping have be the big disruptor . if you can buy an item and return it sit at home , why would you waste money and time come to a shop , '' ask he say e-commerce firm sell at low rate than traditional shop as they buy in bulk . only in power for six month , current _chief_minister_ ashok gehlot be know for build infrastructure such as road and electricity during his early tenure , which have help develop jaipur ’ s tourism and retail prospect . however , the general election be a different ball game and rest on one persona currently . sundar say _prime_minister_ _narendra_modi_ be the face of the party and the country ’ s future for him , though the representative of his own constituency in jaipur , ramchanran bohra—who belong to the _bjp_—has not do extraordinarily well .\n",
      "100.0%\n",
      "_prime_minister_ _narendra_modi_ with bihar _chief_minister_ nitish kumar  right  in patna on sunday .  photo : pti  bihar be key to _bjp_-nda ’ s plan to return to power in the 2019 general election as the state have 40 _lok_sabha_ seat _prime_minister_ _narendra_modi_ on sunday assure that the rule national democratic alliance  nda  government will not only secure the life of the financially and socially weak section , but will also protect the country from act of terrorism .\n",
      "99.6%\n",
      "hours after the ec issue notice to the i & b ministry , the congress accuse _prime_minister_ _narendra_modi_ of mock and trample upon democratic norm _new_delhi_ : the election commission  ec  have issue a notice seek a report from the i & b ministry on namo tv , launch just week ahead of the general election , after opposition party , include the congress , ask the poll body to direct the ministry to suspend the channel as it be violative of the model code of conduct . sources say the ec have issue the notice to the information and broadcasting secretary on tuesday evening , give time till friday even accord to the ministry 's request , to submit a report on the channel and its launch . the ec will take a call on whether it violate the model code after go through the document the ministry file , the source add . sources in the ministry say they have not come across a file seek uplinking and downlinking permission for the channel . hours after the ec issue notice to the i & b ministry , the congress accuse _prime_minister_ _narendra_modi_ of mock and trample upon democratic norm by `` brazenly '' run namo tv and ask the poll watchdog to put a stop at this `` misuse '' of medium that seek to disturb the level-playing field during election .\n",
      "==================================================\n",
      "Topic 3\n",
      "100.0%\n",
      "a bloomberg note say indian market be upgrade to overweight on the outlook for earnings , bnp paribas sa analyst write in a note date march 30 . tata motors surge 5 % after its cumulative sale of passenger vehicle in the domestic market be 1,92,333 unit this _fiscal_year_  april 2018-february 2019  , an increase of 15 % over 1,67,055 unit in the year-ago period .\n",
      "100.0%\n",
      "however , for motherson sumi , there be a silver lining amid the gloomy forecast of slow auto sale . in a call with analyst , the management highlight that bs-vi emission norm will translate into a 10-15 % increase in the wiring harness requirement in automobile . motherson sumi be well-positioned to cash in on this . the company also have a strong order book that promise revenue traction over the next two-three year across its international business . importantly , analyst be optimistic that motherson sumi ’ s capex plan would be low in the quarter ahead , imply reduce borrowing , low interest cost and improved cash flow . true , the motherson sumi stock have be batter on account of weaker-than-expected profit margin in q3 . the pain may continue as the company wad through pressure of the auto sector slowdown and sweeping technological change . but some of this have be factor into valuation that have fall from 25 time one-year forward about a year ago to the present 18 time earnings .\n",
      "100.0%\n",
      "the app be develop by living hope ministries , a christian group start some 30 year ago , which say it serve people feel conflict about their faith and sexuality . among mainstream medical professional , conversion therapy be consider psychologically harmful . “ after consult with outside advocacy group , review our policy , and make sure we have a thorough understanding of the app and its relation to conversion therapy , we ’ ve decide to remove it from the play store , consistent with other app store , '' a google spokesman say thursday in a statement . microsoft corp. , amazon.com inc. and apple inc. have already remove it .\n",
      "100.0%\n",
      "in a list of frequently ask question about alexa , amazon say it use mobile device location to provide more relevant answer and recommendation , and to enable feature like reminder design to trigger when a user reach a certain place . a second internal amazon software tool , available to a small pool of worker who tag transcript of voice recording to help alexa categorize request , store more personal data , accord to one of the employee . after punch in a customer id number , those worker , call annotator and verifier , can see the home and work address and phone number customer enter into the alexa app when they set up the device , the employee say . if a user have choose to share their contact with alexa , their name , number and email address also appear in the dashboard . that data be in the system so that if a customer say “ send a message to laura , '' human reviewer can make sure transcriber write the name correctly so that the software learn to pair that request with the laura in the contact list . one employee say that , as recently as a year ago , an amazon dashboard detail a user ’ s contact display full phone number . now , in that same panel , some digit be obscure . amazon far limit access to data after bloomberg ’ s april 10 report , two of the employee say . some data associate , who transcribe , annotate and verify audio recording , arrive for work to find that they no longer have access to software tool they have previously use in their job , these people say . as of press time , their access have not be restore .\n",
      "100.0%\n",
      "” “ shout-out to arya stark for put in that work last week , ” he say of the _game_of_thrones_ star who shin in last week ’ s episode at the billboard awards and american music awards , the k-pop band have only previously win “ social ” award base off their fanatic fan base , but on wednesday bts pick up top duo/group , best grammy-winning group like maroon 5 , imagine dragons and dan + shay “ i still can ’ t believe we ’ re here on this stage with so many great artist , ” rm say as fan scream loudly “ we ’ re still the same boy from six year ago , we still have the same dreams … we still have the same thought ” imagine dragons do pick up top rock artist , and band leader dan reynolds use his speech to highlight the danger of conversion therapy on lgbtq youth\n",
      "==================================================\n"
     ]
    }
   ],
   "source": [
    "get_top_documents_for_each_topic(W, df_drop['STORY_lem'].tolist(), num_docs=5)"
   ]
  },
  {
   "cell_type": "markdown",
   "metadata": {
    "id": "admd_mi_gakA"
   },
   "source": [
    "After conducting second round regex, we still cannot improve the performance of topic modeling. The possible reason to this problem will be duplicated keywords. For example, \"social medium\" appears in frequent wordlists of section 0, 1 and 2. Therefore, they mix up with each other in topic 0, 1 and 2. As for topic 3, it's composed of section 1, 2 and 3 becuase they also share \"last year\" as common keyword. Next, we will remove these common keywords and conduct topic modeling again."
   ]
  },
  {
   "cell_type": "code",
   "execution_count": 84,
   "metadata": {
    "id": "mWirC0Swzo-T"
   },
   "outputs": [],
   "source": [
    "def regex_remove_freq(line):\n",
    "    '''Remove common keywords'''\n",
    "    line = re.sub(r'\\blast year\\b', '', line)\n",
    "    line = re.sub(r'\\byear ago\\b', '', line)\n",
    "    line = re.sub(r'\\bsocial medium\\b', '', line)\n",
    "    return line"
   ]
  },
  {
   "cell_type": "code",
   "execution_count": 85,
   "metadata": {
    "colab": {
     "base_uri": "https://localhost:8080/"
    },
    "id": "JqeWlAO_iVKL",
    "outputId": "3f0c4c95-e459-4a61-ed68-8a0400ec42fe"
   },
   "outputs": [
    {
     "name": "stderr",
     "output_type": "stream",
     "text": [
      "/usr/local/lib/python3.7/dist-packages/ipykernel_launcher.py:1: SettingWithCopyWarning: \n",
      "A value is trying to be set on a copy of a slice from a DataFrame.\n",
      "Try using .loc[row_indexer,col_indexer] = value instead\n",
      "\n",
      "See the caveats in the documentation: https://pandas.pydata.org/pandas-docs/stable/user_guide/indexing.html#returning-a-view-versus-a-copy\n",
      "  \"\"\"Entry point for launching an IPython kernel.\n"
     ]
    }
   ],
   "source": [
    "df_drop['STORY_lem'] = df_drop['STORY_lem'].apply(lambda x: regex_remove_freq(x))"
   ]
  },
  {
   "cell_type": "code",
   "execution_count": 86,
   "metadata": {
    "colab": {
     "base_uri": "https://localhost:8080/"
    },
    "id": "mqjJtsJQz-hn",
    "outputId": "2d91ddb4-2ec7-4786-ab8d-0bf1370aaa86"
   },
   "outputs": [
    {
     "name": "stdout",
     "output_type": "stream",
     "text": [
      "TF-IDF: (7600, 37)\n",
      "   10 year  4gb ram  64gb internal  6gb ram  _avengers_ endgame  _bjp_ leader  \\\n",
      "0      0.0      0.0            0.0      0.0                 0.0           0.0   \n",
      "1      0.0      0.0            0.0      0.0                 0.0           0.0   \n",
      "2      0.0      0.0            0.0      0.0                 0.0           0.0   \n",
      "3      0.0      0.0            0.0      0.0                 0.0           0.0   \n",
      "4      0.0      0.0            0.0      0.0                 0.0           0.0   \n",
      "\n",
      "   _lok_sabha_ election  _lok_sabha_ poll  _lok_sabha_ seat  \\\n",
      "0                   0.0               0.0               0.0   \n",
      "1                   0.0               0.0               0.0   \n",
      "2                   0.0               0.0               0.0   \n",
      "3                   0.0               0.0               0.0   \n",
      "4                   0.0               0.0               0.0   \n",
      "\n",
      "   _prime_minister_ _narendra_modi_  ...  political party  \\\n",
      "0                               0.0  ...              0.0   \n",
      "1                               0.0  ...              0.0   \n",
      "2                               0.0  ...              0.0   \n",
      "3                               0.0  ...              0.0   \n",
      "4                               0.0  ...              0.0   \n",
      "\n",
      "   president _rahul_gandhi_  qualcomm snapdragon  ram 64gb  san francisco  \\\n",
      "0                       0.0                  0.0       0.0            0.0   \n",
      "1                       0.0                  0.0       0.0            0.0   \n",
      "2                       0.0                  0.0       0.0            0.0   \n",
      "3                       0.0                  0.0       0.0            0.0   \n",
      "4                       0.0                  0.0       0.0            0.0   \n",
      "\n",
      "   say statement  smartphone maker  union minister  vice president  \\\n",
      "0            0.0               0.0             0.0             0.0   \n",
      "1            0.0               0.0             0.0             0.0   \n",
      "2            0.0               0.0             0.0             0.0   \n",
      "3            0.0               0.0             0.0             0.0   \n",
      "4            0.0               0.0             0.0             0.0   \n",
      "\n",
      "   west bengal  \n",
      "0          0.0  \n",
      "1          0.0  \n",
      "2          0.0  \n",
      "3          0.0  \n",
      "4          0.0  \n",
      "\n",
      "[5 rows x 37 columns]\n"
     ]
    },
    {
     "name": "stderr",
     "output_type": "stream",
     "text": [
      "/usr/local/lib/python3.7/dist-packages/sklearn/utils/deprecation.py:87: FutureWarning: Function get_feature_names is deprecated; get_feature_names is deprecated in 1.0 and will be removed in 1.2. Please use get_feature_names_out instead.\n",
      "  warnings.warn(msg, category=FutureWarning)\n"
     ]
    }
   ],
   "source": [
    "vectorizer = TfidfVectorizer(ngram_range=(2,2),\n",
    "                             min_df=0.01, max_df=0.4, stop_words=\"english\")\n",
    "\n",
    "X = vectorizer.fit_transform(df_drop['STORY_lem'])\n",
    "terms = vectorizer.get_feature_names()\n",
    "tf_idf = pd.DataFrame(X.toarray(), columns=terms)\n",
    "print(f\"TF-IDF: {tf_idf.shape}\")\n",
    "print(tf_idf.head(5))"
   ]
  },
  {
   "cell_type": "code",
   "execution_count": 87,
   "metadata": {
    "colab": {
     "base_uri": "https://localhost:8080/"
    },
    "id": "Pu-BQk3L0CFd",
    "outputId": "0d81358a-8fc1-4975-82d3-5e6ed46904ce"
   },
   "outputs": [
    {
     "name": "stderr",
     "output_type": "stream",
     "text": [
      "/usr/local/lib/python3.7/dist-packages/sklearn/decomposition/_nmf.py:294: FutureWarning: The 'init' value, when 'init=None' and n_components is less than n_samples and n_features, will be changed from 'nndsvd' to 'nndsvda' in 1.1 (renaming of 0.26).\n",
      "  FutureWarning,\n"
     ]
    }
   ],
   "source": [
    "nmf = NMF(n_components=4)\n",
    "W = nmf.fit_transform(X)\n",
    "H = nmf.components_"
   ]
  },
  {
   "cell_type": "code",
   "execution_count": 88,
   "metadata": {
    "colab": {
     "base_uri": "https://localhost:8080/"
    },
    "id": "6EzAN7Cx0ESR",
    "outputId": "2ce945f0-1323-4e49-ed4e-72657200b916"
   },
   "outputs": [
    {
     "name": "stdout",
     "output_type": "stream",
     "text": [
      "TOPIC 0\n",
      "\n",
      "\b_lok_sabha_ election (68.2%)\n",
      "\n",
      "\bassembly election (6.9%)\n",
      "\n",
      "\belection commission (5.1%)\n",
      "\n",
      "\bjanata dal (2.9%)\n",
      "\n",
      "\bwest bengal (2.3%)\n",
      "\n",
      "\bpolitical party (2.1%)\n",
      "\n",
      "\bcongress president (2.0%)\n",
      "\n",
      "\b_lok_sabha_ poll (1.8%)\n",
      "\n",
      "\bpresident _rahul_gandhi_ (1.6%)\n",
      "\n",
      "\bunion minister (1.4%)\n",
      "\n",
      "==================================================\n",
      "TOPIC 1\n",
      "\n",
      "\b_prime_minister_ _narendra_modi_ (20.2%)\n",
      "\n",
      "\bgeneral election (18.1%)\n",
      "\n",
      "\b_lok_sabha_ seat (8.1%)\n",
      "\n",
      "\belection commission (6.0%)\n",
      "\n",
      "\bcongress party (4.0%)\n",
      "\n",
      "\bcongress president (4.0%)\n",
      "\n",
      "\bassembly election (3.7%)\n",
      "\n",
      "\b_lok_sabha_ poll (3.5%)\n",
      "\n",
      "\bpolitical party (3.4%)\n",
      "\n",
      "\bwest bengal (3.3%)\n",
      "\n",
      "==================================================\n",
      "TOPIC 2\n",
      "\n",
      "\b_avengers_ endgame (91.6%)\n",
      "\n",
      "\bnew york (2.6%)\n",
      "\n",
      "\b10 year (1.5%)\n",
      "\n",
      "\bsan francisco (1.3%)\n",
      "\n",
      "\bsmartphone maker (1.1%)\n",
      "\n",
      "\bvice president (1.0%)\n",
      "\n",
      "\bcentral bank (0.4%)\n",
      "\n",
      "\bartificial intelligence (0.2%)\n",
      "\n",
      "\bcompany say (0.2%)\n",
      "\n",
      "\boil price (0.1%)\n",
      "\n",
      "==================================================\n",
      "TOPIC 3\n",
      "\n",
      "\binternal storage (28.6%)\n",
      "\n",
      "\b6gb ram (12.3%)\n",
      "\n",
      "\b64gb internal (11.8%)\n",
      "\n",
      "\bram 64gb (11.8%)\n",
      "\n",
      "\bqualcomm snapdragon (10.7%)\n",
      "\n",
      "\b4gb ram (9.4%)\n",
      "\n",
      "\bcamera setup (7.1%)\n",
      "\n",
      "\bsmartphone maker (5.1%)\n",
      "\n",
      "\bsan francisco (1.3%)\n",
      "\n",
      "\bartificial intelligence (0.6%)\n",
      "\n",
      "==================================================\n"
     ]
    }
   ],
   "source": [
    "get_top_tf_idf_tokens_for_topic(H, tf_idf.columns.tolist(), 10)"
   ]
  },
  {
   "cell_type": "code",
   "execution_count": 89,
   "metadata": {
    "colab": {
     "base_uri": "https://localhost:8080/"
    },
    "id": "MaMVaz-T0Hzj",
    "outputId": "a743274d-faea-4529-e41a-1d6b4df235f0"
   },
   "outputs": [
    {
     "name": "stdout",
     "output_type": "stream",
     "text": [
      "Topic 0\n",
      "100.0%\n",
      "He compared the Lok Sabha elections to a contest between 'Ali', a revered figure in Islam, and Bajrang Bali, the Hindu god Hanuman.\n",
      "100.0%\n",
      "”Also read | Lok Sabha Elections 2019 Phase 3 LIVE newsVoting began at 7 am on Tuesday as 116 constituencies across 15 states and union territories go to polls in the third and largest phase of Lok Sabha electionsMeanwhile, Anupam Kher, Shah Rukh Khan and many other celebrities from the entertainment industry urged people to come out in huge numbers to vote\n",
      "100.0%\n",
      "The Lok Sabha election in the state will be held in seven phases with the first one on 11 April and the last on 19 May\n",
      "100.0%\n",
      "He also stated that a meeting of TPCC coordination committee would be held on 16 February to discuss alliances and that the party’s election committee will meet to shortlist the candidates for Lok Sabha elections on 17 February.\n",
      "100.0%\n",
      "In an ideal world, this should have been the election in which Kanhaiya Kumar, and the millions of young Indians like him, found their true expression. The 32-year-old former president of Jawaharlal Nehru University Students’ Union, who is contesting from the Begusarai parliamentary seat in Bihar as a candidate of the Communist Party of India (CPI), wrote in a piece for online magazine Scroll that he stood for “a politics that dreams of an India that rises beyond what divides us, and celebrates what unites us. A politics that dreams of a society that truly values individual rights, inclusive development and progressive thinking\".In a country where the median age is 28, and where 15 million young people aged 18 or 19 are likely to vote for the first time, those words may well sum up the zeitgeist of a New India.In reality, though, their voice has barely risen above the din, completely drowned by the cacophony of grizzly politicians, who are cynically exploiting every available fault-line between communities, castes and ethnic groupings with the sole objective of garnering more votes. In this milieu, rabid acrimony has marked the buildup to the 2019 Lok Sabha elections.In this no-holds-barred slugfest for political one-upmanship, the most dangerous strand has been dragging the armed forces into the election narrative. With sundry retired generals, particularly those past their prime, jumping into the fray, the politicization of the military, if it becomes any more pronounced, could end up acquiring menacing proportions in the future.\n",
      "==================================================\n",
      "Topic 1\n",
      "100.0%\n",
      "Indian women, especially those working in precarious informal sectors, are at the sharp end of what economists and opposition politicians describe as a jobs crisis in India. (AP)According to the private Centre for Monitoring Indian Economy (CMIE), 90 percent of around 10 million jobs lost last year were held by womenWhile Modi remains the favourite in general elections, insufficient employment is a major voter worryCHINCHOLI: A few years ago, in this sweltering corner of western India, the horizon was dotted with hunched, barefoot women swinging sickles all day to cut wheat for the spring harvest.Now, a giant green harvester clears an entire half-acre field within minutes, allowing farmers to save money and quickly sell the wheat, typically used to make Indian flat breads.Chhaya Kharade, 36, and other women doing lighter farm work were gradually replaced by the machines that now crisscross wheat, sugar cane and onion fields surrounding Chincholi, a village 190 km (120 miles) east of India's financial hub of Mumbai.\"I should be busy now, as the wheat harvesting is going on. But there is hardly any work for me. Almost all farmers are using machines,\" Kharade said in her spartan two-room house.Indian women, especially those working in precarious informal sectors, are at the sharp end of what economists and opposition politicians describe as a jobs crisis in India. According to the private Centre for Monitoring Indian Economy (CMIE), 90 percent of around 10 million jobs lost last year were held by women.Several unemployed women interviewed by Reuters said they had soured on Prime Minister Narendra Modi, a Hindu nationalist who swept to power in 2014 vowing to turn India into an economic powerhouse but has struggled to create jobs.\n",
      "100.0%\n",
      "NEW DELHI: A video clip shot on a sparse rooftop of what looks like a low-rise apartment block shows a young Indian man swaying while lip-syncing a song praising Prime Minister Narendra Modi.Describing himself as a proud Indian with the online identity \"garrytomar\", he is wearing ear-studs and shows a beaded necklace under a partly unbuttoned shirt in the 15-second clip.\"Modi has single-handedly trounced everyone ... Modi is a storm, you all now know,\" goes the Hindi song, posted on Chinese video mobile application TikTok, the latest digital platform to grip India's small towns and villages ahead of a general election due by May.Created by Beijing Bytedance Technology Co, one of the world's most valuable start-ups potentially worth more than $75 billion, TikTok allows users to create and share short videos with various special effects. It is becoming hugely popular in rural India, home to most of the country's 1.3 billion people.Social media platforms such as Facebook, its unit WhatsApp and Twitter are extensively being used by Indian politicians for campaigning ahead of the election: Facebook's 300 million users and WhatsApp's 200 million have made India their largest market in the world, while Twitter too has millions of users.TikTok is fast catching up: it has been downloaded more than 240 million times in India so far, according to app analytics firm Sensor Tower. More than 30 million users in India installed it last month, 12 times more than in January 2018.\n",
      "100.0%\n",
      "Modi's roadshow will begin from Benaras Hindu University and will criscross large part of the city before reaching the banks of GangaPrime Minister Narendra Modi will hold a roadshow in Varanasi on Thursday before he files his nomination papers from the holy city in the ongoing 2019 general elections.\n",
      "100.0%\n",
      "Soon after coming to power in 2014, the BJP leadership under Prime Minister Narendra Modi and party president Amit Shah decided that senior leaders aged 75 years, or more, will not hold any public office.Now, the party has gone a step further to replace L.K. Advani, 91, the former deputy prime minister and BJP president, in Gandhinagar, besides asking another former party president and the member of Parliament (MP) from Kanpur, Murli Manohar Joshi, not to contest the general elections. Similarly, former minister Kalraj Mishra, who is an MP from the Deoria constituency in Uttar Pradesh, has also been denied a ticket this time.\n",
      "100.0%\n",
      "Traditional businesses are increasingly worried about the impact of online retailers. “Online shopping has been the biggest disruptor. If you can buy an item and return it sitting at home, why would you waste money and time coming to a shop,\" asked He said e-commerce firms sell at lower rates than traditional shops as they buy in bulk.Only in power for six months, current chief minister Ashok Gehlot is known for building infrastructure such as roads and electricity during his earlier tenure, which have helped develop Jaipur’s tourism and retail prospects. However, the general elections are a different ball game and rest on one persona currently.Sundar said Prime Minister Narendra Modi is the face of the party and the country’s future for him, though the representative of his own constituency in Jaipur, Ramchanran Bohra—who belongs to the BJP—has not done extraordinarily well.\n",
      "==================================================\n",
      "Topic 2\n",
      "100.0%\n",
      "It was with the 2008 film Iron Man that the iconic journey of the Marvel Cinematic Universe started with a bang A superhero who was a “genius, billionaire, playboy, philanthropist” bowled over the audience all over the world and 21 films on, still continues to do so Robert Downey Jr’s Iron Man was the latest craze and Iron Man 2 had a lot of expectations riding on it and even though it was quite a success at the time, the film had its flaws Matching up to the standard of Iron Man was an impossible task to start with, but the makers tried to recreate the magic of the 2008 filmWith Avengers: Endgame releasing, here’s looking back at the best and the not-so-great things about Iron Man 2\n",
      "100.0%\n",
      "The release date of Avengers: Endgame is just around the corner and the excitement is running high among Marvel fans for MCU’s concluding chapterRecently, in an interview with The Up Coming, Iron Man aka Robert Downey Jr revealed that Endgame’s last eight minutes might be the most thrilling moments captured on film, as far as the MCU movies are concerned\n",
      "100.0%\n",
      "Recently, Avengers: Endgame star Tessa Thompson said she played her MCU character, Valkyrie as bisexualIn 2017, thousands of Wonder Woman fans signed a petition to make the DC superhero a bisexual in its upcoming sequel\n",
      "100.0%\n",
      "Girish Johar also said, “Kalank is coming from one of the topmost production houses, Dharma, which is the pioneer of making mega-budget movies The makers are looking at a mammoth release and are eyeing maximum numbers before Avengers: Endgame release on April 26\n",
      "100.0%\n",
      "But given that the majority of the audience was ‘later millennials’, the moment the red, black and grey Marvel Studios logo came up on the screen, so did the phone camerasThe moment the film started, and as Hawkeye’s ankle monitor came into focus, the silence that enveloped the hall was akin to that off a church in full flow of Sunday Mass I see many films alone – call it an occupational hazard, or just plain necessity and sometimes choice – and yes there are some odd times when I wish that I had brought someone along, especially in horror or thriller films But what I experienced while watching Avengers: Endgame was something even better than watching it with a friend or well-wisher Every bit of activity or action that unfolded on the screen, elicited an almost instantaneous, collective response from the audience The gasps were loudly audible, the shrieks of celebration were universal and so were the utterings of ‘oh yeah!’ and the accompanying rounds of applause\n",
      "==================================================\n",
      "Topic 3\n",
      "100.0%\n",
      "Honor’s parent brand, Huawei, will launch its first Y-series smartphone in India, the Huawei Y9. The Huawei Y9 will come with a 6.5-inch display running a resolution of 2340x1080. Powering the Y9 will be Huawei’s own Kirin 710 SoC paired with either 4GB RAM and 64GB of internal storage or 6GB of RAM and 128GB of internal storage. The back of the phone sports a 16MP+2MP dual camera setup, with f/2.0 aperture. The front of the smartphone also has a dual camera system consisting of a 13MP+2MP clicker with f/2.4 aperture.Xiaomi is also gearing up for its next generation of smartphones. Several Xiaomi devices made their way to TENAA listings, but only the Redmi 7has a final launch date so far. The Redmi 7 will be launched on January 10 and if we are lucky, we will probably see the Redmi Note 7 share the stage with it.The Redmi 7 boasts a refreshed design which is unlike other Xiaomi devices. The Chinese smartphone major has taken a more conventional design approach with the Redmi 7, as it now comes with dual tone gradient glass back. Xiaomi stuck with metal backs for its Redmi smartphones last year, which have started to look a bit dated.\n",
      "100.0%\n",
      "The Nokia 5.1 Plus will start at ?8,999 during the sale. The Nokia 5.1 Plus features a 5.86-inch HD+ display, an octa-core MediaTek Helio P60 processor, 3GB of RAM and 32GB of internal storage.  The Zenfone 5z will be available at ?21,999 during the sale. The Zenfone 5z comes with a 6.2-inch Full HD+ LCD display with a notch, Qualcomm Snapdragon 845 paired with up to 8GB RAM and 256GB internal storage and 12MP+8MP dual rear cameras with OIS and PDAF.The Samsung Galaxy S8 is currently selling for ?39,990 and will receive a discount of ?8,000, bringing down the price to ?30,990.  The Samsung Galaxy S8 was launched in 2017 with  Exynos 8895 octa-core processor paired with 4GB RAM and 64GB internal storage.Flipkart Mobiles BonanzaPoco F1Redmi Note 6Realme 2 ProPoco F1 priceredmi note 6 pricenokiasamsungsamsung galaxy s8nokia 5.1\n",
      "100.0%\n",
      "Coming back to the Galaxy A30 and A50, the smartphones offer 6.4-inch Super AMOLED Infinity U-display with a resolution of 2340x1080. The Galaxy A30 is powered by the same Exynos 7904 found inside the Galaxy M20. It is paired with up to 4GB of RAM and 64GB of internal storage. In terms of optics, it has a 16MP+5MP rear camera configuration while at the front it has a 16MP selfie clicker.The Galaxy A50 runs the Exynos 9610 processor paired with up to 6GB RAM and 128GB internal storage. It has 25MP+8MP+5MP triple rear cameras and a 25MP front-facing camera. It has an in-display fingerprint scanner.\n",
      "100.0%\n",
      "Amazon also has a scheme in which customers buying the device between February 6 and February 17 will receive an extra exchange discount worth ?2,500 while those buying the smartphone between February 18 and 28 will receive an exchange discount of ?1,500.Coming to the specifications, the Nokia 8.1 sports a 6.18-inch Full HD+ LCD display at the front. Powering the device is Qualcomm's new Snapdragon 710 processor clocked at 2.2GHz with eight Kryo 360 cores. It comes in two variants of 4GB RAM/64GB internal storage and 6GB RAM/128GB internal storage.\n",
      "100.0%\n",
      "The current Indian line-up of Huawei consists of the recently launch Mate 20 Pro, the previous flagship P20 Pro, P20 Lite, Nova 3 and Nova 3i. The Huawei Y9 will most likely be a companion to the Nova 3i which has been taking on mid-range smartphones on its own. We can expect the Y9 to be pitted strongly against the Redmi Note 6 Pro, Asus ZenFone Max Pro M2 and the Honor 8X.The Y9 was launched as the Huawei Enjoy 9 Plus in China which is lit up by a 6.5-inch LCD display with a resolution of 2340x1080. It is powered by the octa-core Kirin 710 SoC paired with Mali-G51 MP4 GPU. The chipset is mated with either 4GB RAM and 64GB of internal storage or 6GB of RAM and 128GB of internal storage.\n",
      "==================================================\n"
     ]
    }
   ],
   "source": [
    "get_top_documents_for_each_topic(W, df_drop['STORY'].tolist(), num_docs=5)"
   ]
  },
  {
   "cell_type": "markdown",
   "metadata": {
    "id": "o4NAQg3d2opu"
   },
   "source": [
    "After we remove common keywords, politics stories are classified as topic 0 and 1. Topic 2 are filled with entertainment and business articles. As for topic 3, we can see that most of the articles are technology. "
   ]
  },
  {
   "cell_type": "code",
   "execution_count": 89,
   "metadata": {
    "id": "ayiYwTRt3aVW"
   },
   "outputs": [],
   "source": []
  }
 ],
 "metadata": {
  "colab": {
   "collapsed_sections": [],
   "name": "HW4.ipynb",
   "provenance": []
  },
  "kernelspec": {
   "display_name": "Python 3 (ipykernel)",
   "language": "python",
   "name": "python3"
  },
  "language_info": {
   "codemirror_mode": {
    "name": "ipython",
    "version": 3
   },
   "file_extension": ".py",
   "mimetype": "text/x-python",
   "name": "python",
   "nbconvert_exporter": "python",
   "pygments_lexer": "ipython3",
   "version": "3.9.7"
  }
 },
 "nbformat": 4,
 "nbformat_minor": 1
}
